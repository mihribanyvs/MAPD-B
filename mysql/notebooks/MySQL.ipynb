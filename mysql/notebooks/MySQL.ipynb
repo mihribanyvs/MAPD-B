{
 "cells": [
  {
   "cell_type": "markdown",
   "id": "938f871d",
   "metadata": {},
   "source": [
    "# RDBMS - MySQL \n",
    "\n",
    "## 00 - Introduction\n",
    "\n",
    "Among the Relational DBMSs, the most widely known are Oracle, SQLite, Postgres, MariaDB, and MySQL.\n",
    "\n",
    "Each one of them is characterized by a different set of \"variations\" on top of the base SQL language, although usually minor.\n",
    "\n",
    "We will use **MySQL** to run exercises about Relational DB transactions using the SQL language, as it is *currently* at the top of the list of most widely used RDBMSs. \n",
    "\n",
    "[DB Engines Ranking Trend](https://db-engines.com/en/ranking_trend/relational+dbms)\n",
    "\n",
    "[Worldwide Popularity Ranking of Database Management Systems](https://www.statista.com/statistics/809750/worldwide-popularity-ranking-database-management-systems/)\n",
    "\n",
    "[Stack Overflow 2023 Developer Survey - Most Popular Technologies (Language)](https://survey.stackoverflow.co/2023/#most-popular-technologies-language)\n",
    "\n",
    "[Stack Overflow 2023 Developer Survey - Most Popular Technologies (Database)](https://survey.stackoverflow.co/2023/#most-popular-technologies-database)\n"
   ]
  },
  {
   "cell_type": "markdown",
   "id": "3ce38833",
   "metadata": {},
   "source": [
    "MySQL programming interfaces exist for many languages, including C, C++, Go, Java, Perl, PHP, Python, etc...\n",
    "\n",
    "Even simply referring to Python, we can count on several options to connect and interact with the DBs. \n",
    "\n",
    "Let's explore a couple of them..."
   ]
  },
  {
   "cell_type": "markdown",
   "id": "4e97fb3a",
   "metadata": {},
   "source": [
    "## 01 - Create a Connection to MySQL\n",
    "\n",
    "A MySQL server is running within one of your Docker containers.\n",
    "\n",
    "You can access it using the MySQL server credentials defined in the `docker-compose.yml` file.\n",
    "\n",
    "By default, a `root` user is created with the following credentials:\n",
    "- **Username:** `root`\n",
    "- **Password:** `root_pwd`\n",
    "\n",
    "Additionally, a non-`root` user is created by default with:\n",
    "- **Username:** `my_user`\n",
    "- **Password:** `my_pwd`\n"
   ]
  },
  {
   "cell_type": "markdown",
   "id": "d66684cf",
   "metadata": {},
   "source": [
    "#### Interactive\n",
    "\n",
    "To interact with the MySQL server, you can log in interactively to its Docker container.\n",
    "\n",
    "First, check the `CONTAINER ID` of the container named `mysql_db` by running:\n",
    "\n",
    "```bash\n",
    "$ docker ps\n",
    "```\n",
    "\n",
    "Then, initiate an interactive bash session within the container by executing:\n",
    "\n",
    "```bash\n",
    "$ docker exec -it <YOUR CONTAINER ID> bash\n",
    "```\n",
    "\n",
    "Once inside the container, you can access the MySQL server as if you were connected to a remote server hosting your databases:\n",
    "\n",
    "```bash\n",
    "$ mysql -u <EITHER ROOT OR USER> -p\n",
    "```\n",
    "\n",
    "Replace `<YOUR CONTAINER ID>` with the actual container ID obtained from the `docker ps` command output, and `<EITHER ROOT OR USER>` with either `root` or `my_user`, depending on the user you want to log in as.\n",
    "\n"
   ]
  },
  {
   "cell_type": "markdown",
   "id": "1f0cb7ff",
   "metadata": {},
   "source": [
    "We can then inspect the MySQL server to display all databases by executing the following SQL command:\n",
    "\n",
    "```mysql\n",
    "SHOW DATABASES;\n",
    "```\n",
    "\n",
    "**NB**: Remember to end a SQL command with a semicolon `;`."
   ]
  },
  {
   "cell_type": "markdown",
   "id": "bcb48d85",
   "metadata": {},
   "source": [
    "#### mysql.connector\n",
    "\n",
    "A more pythonic way to interact with a MySQL server is by using a dedicated driver such as `mysql.connector`, which is already installed in the Jupyter Notebook container.\n",
    "\n",
    "This connector offers an interface to establish a connection object to the MySQL server and provides various functionalities for executing transactions and fetching records from databases.\n",
    "\n",
    "We can start by declaring a connection to our MySQL server.\n",
    "\n",
    "**NB:** The server is hosted in a different container from the notebook, simulating a connection between two different machines: a client and a server.\n"
   ]
  },
  {
   "cell_type": "code",
   "execution_count": 2,
   "id": "e9a1d1be",
   "metadata": {},
   "outputs": [
    {
     "name": "stdout",
     "output_type": "stream",
     "text": [
      "<mysql.connector.connection_cext.CMySQLConnection object at 0x7f6c8ee466d0>\n"
     ]
    }
   ],
   "source": [
    "# import the connector\n",
    "import mysql.connector\n",
    "\n",
    "# declare a connection to the MySQL server \n",
    "# the hostname (or IP) of the server machine should be passed\n",
    "db = mysql.connector.connect(\n",
    "  user=\"root\",\n",
    "  password=\"root_pwd\",\n",
    "  host=\"db\", # in this case 'db' is the equivalent of the IP address of the server \n",
    "             # or 'localhost' if running mysql locally\n",
    ")\n",
    "\n",
    "print(db)"
   ]
  },
  {
   "cell_type": "markdown",
   "id": "93eb72df",
   "metadata": {},
   "source": [
    "At this point, a database connection is established.\n",
    "\n",
    "To interact with the database using Python and `mysql.connector`, we need a \"handle\" known as a cursor, which must be instantiated.\n",
    "\n",
    "When using this connector to interact with the database, all SQL statements are executed using the cursor.\n"
   ]
  },
  {
   "cell_type": "code",
   "execution_count": 3,
   "id": "cf532620",
   "metadata": {},
   "outputs": [],
   "source": [
    "# create our db cursor object\n",
    "dbc = db.cursor()"
   ]
  },
  {
   "cell_type": "markdown",
   "id": "42686539",
   "metadata": {},
   "source": [
    "The cursor allows us to execute all SQL transactions on the database as if we were logged into the server.\n",
    "\n",
    "If a transaction fetches results from the database (returns a set of records), the connector object will retain the results. This feature can be useful for later use in a more \"pythonic\" way, integrating our database queries with other Python statements.\n",
    "\n",
    "The syntax for issuing a generic SQL statement is as follows:\n",
    "\n",
    "```python\n",
    "connector_object.execute(my_sql_query)\n",
    "```\n",
    "\n",
    "For example, let's execute the same check as before by asking MySQL to show us all available databases..."
   ]
  },
  {
   "cell_type": "code",
   "execution_count": 4,
   "id": "4135e21c",
   "metadata": {},
   "outputs": [],
   "source": [
    "# show all available databases\n",
    "dbc.execute(\n",
    "\"SHOW DATABASES\"\n",
    ")"
   ]
  },
  {
   "cell_type": "markdown",
   "id": "e1325e30",
   "metadata": {},
   "source": [
    "No output is printed because the result of this SQL transaction is collected into the cursor as a list of records (tuples).\n",
    "\n",
    "To retrieve the results, we can simply loop over them."
   ]
  },
  {
   "cell_type": "code",
   "execution_count": 5,
   "id": "d860628b",
   "metadata": {},
   "outputs": [
    {
     "name": "stdout",
     "output_type": "stream",
     "text": [
      "('information_schema',)\n",
      "('mysql',)\n",
      "('performance_schema',)\n",
      "('sys',)\n",
      "('world',)\n"
     ]
    }
   ],
   "source": [
    "# loop over the container to fetch the results\n",
    "for _ in dbc:\n",
    "    print(_)"
   ]
  },
  {
   "cell_type": "markdown",
   "id": "b11de704",
   "metadata": {},
   "source": [
    "If we are `root` users in this example, we can access the inner structure of the MySQL server, which already contains a few databases by default.\n",
    "\n",
    "After fetching the output of the transaction, the cursor reaches \"the end\" of the records and becomes available to perform a new transaction."
   ]
  },
  {
   "cell_type": "code",
   "execution_count": null,
   "id": "e4b8d91a",
   "metadata": {},
   "outputs": [],
   "source": [
    "# use fetch to retrieve one, many, or all entries in the cursor\n",
    "dbc.fetchone()\n",
    "\n",
    "# dbc.fetchmany(2)\n",
    "\n",
    "# dbc.fetchall()"
   ]
  },
  {
   "cell_type": "markdown",
   "id": "91be5564",
   "metadata": {},
   "source": [
    "If one wants to perform a new transaction without collecting the output of the previous one from the cursor, a reset must be issued first:\n",
    "\n",
    "```python\n",
    "connector_object.reset()\n",
    "```"
   ]
  },
  {
   "cell_type": "markdown",
   "id": "ea86a443",
   "metadata": {},
   "source": [
    "If a generic user (i.e., not the `root` user) is logged into the database server, they will not have access to certain functionalities and won't be able to see the previous list of all databases.\n",
    "\n",
    "Some of these databases and tables are protected and used to store additional information about the state of the MySQL server and the connected users."
   ]
  },
  {
   "cell_type": "code",
   "execution_count": null,
   "id": "7f54810c",
   "metadata": {},
   "outputs": [],
   "source": [
    "# connecto to the database as a non-root user\n",
    "udb = mysql.connector.connect(\n",
    "  user=\"my_user\",\n",
    "  password=\"my_pwd\",\n",
    "  host=\"db\",\n",
    ")\n",
    "\n",
    "# create a cursor\n",
    "udbc = udb.cursor()\n",
    "\n",
    "# execute the transaction\n",
    "udbc.execute(\n",
    "\"SHOW DATABASES\"\n",
    ")\n",
    "\n",
    "# fetch all results\n",
    "udbc.fetchall()"
   ]
  },
  {
   "cell_type": "markdown",
   "id": "b10b13ac",
   "metadata": {},
   "source": [
    "#### iPython Magic\n",
    "\n",
    "Another way to execute queries from Python within a Jupyter Notebook is by utilizing notebook \"magic\" functions, which are based on iPython and SQLAlchemy.\n",
    "\n",
    "This approach is similar to loading inline figures from Matplotlib using `%matplotlib inline`.\n",
    "\n",
    "To instruct iPython to interpret SQL commands and connect to the appropriate database, we need to:\n",
    "\n",
    "1. Load the extension for the SQL language.\n",
    "2. Set the environment variable to point to the connection to the database.\n"
   ]
  },
  {
   "cell_type": "code",
   "execution_count": 3,
   "id": "48901afc",
   "metadata": {},
   "outputs": [
    {
     "name": "stdout",
     "output_type": "stream",
     "text": [
      "env: DATABASE_URL=mysql+mysqlconnector://root:root_pwd@db\n"
     ]
    }
   ],
   "source": [
    "%load_ext sql\n",
    "\n",
    "%env DATABASE_URL=mysql+mysqlconnector://root:root_pwd@db"
   ]
  },
  {
   "cell_type": "markdown",
   "id": "f0ccff35",
   "metadata": {},
   "source": [
    "Now, notebook cells can execute SQL transactions directly in plain SQL by starting the cell with `%%sql`.\n",
    "\n",
    "By default, the result is also printed using the `pretty` format, similar to the pandas-like format."
   ]
  },
  {
   "cell_type": "code",
   "execution_count": 4,
   "id": "3bd200b3",
   "metadata": {},
   "outputs": [
    {
     "name": "stdout",
     "output_type": "stream",
     "text": [
      "5 rows affected.\n"
     ]
    },
    {
     "data": {
      "text/html": [
       "<table>\n",
       "    <thead>\n",
       "        <tr>\n",
       "            <th>Database</th>\n",
       "        </tr>\n",
       "    </thead>\n",
       "    <tbody>\n",
       "        <tr>\n",
       "            <td>imdb</td>\n",
       "        </tr>\n",
       "        <tr>\n",
       "            <td>information_schema</td>\n",
       "        </tr>\n",
       "        <tr>\n",
       "            <td>mysql</td>\n",
       "        </tr>\n",
       "        <tr>\n",
       "            <td>performance_schema</td>\n",
       "        </tr>\n",
       "        <tr>\n",
       "            <td>sys</td>\n",
       "        </tr>\n",
       "    </tbody>\n",
       "</table>"
      ],
      "text/plain": [
       "[('imdb',),\n",
       " ('information_schema',),\n",
       " ('mysql',),\n",
       " ('performance_schema',),\n",
       " ('sys',)]"
      ]
     },
     "execution_count": 4,
     "metadata": {},
     "output_type": "execute_result"
    }
   ],
   "source": [
    "%%sql\n",
    "\n",
    "SHOW DATABASES;"
   ]
  },
  {
   "cell_type": "markdown",
   "id": "b6c9f988",
   "metadata": {},
   "source": [
    "An additional benefit is that a single `%sql` (not a double `%%sql`) can be used to combine a SQL query with any Python command."
   ]
  },
  {
   "cell_type": "code",
   "execution_count": 29,
   "id": "55d8300a",
   "metadata": {},
   "outputs": [
    {
     "name": "stdout",
     "output_type": "stream",
     "text": [
      " * mysql+mysqlconnector://root:***@db\n",
      "5 rows affected.\n",
      "+--------------------+\n",
      "|      Database      |\n",
      "+--------------------+\n",
      "|        imdb        |\n",
      "| information_schema |\n",
      "|       mysql        |\n",
      "| performance_schema |\n",
      "|        sys         |\n",
      "+--------------------+\n"
     ]
    }
   ],
   "source": [
    "my_python_var = %sql SHOW DATABASES\n",
    "\n",
    "print(my_python_var)"
   ]
  },
  {
   "cell_type": "markdown",
   "id": "d3885276",
   "metadata": {},
   "source": [
    "The combination of either of the two Pythonic methods can be used to easily redirect the output of database transactions to leverage other well-known Python modules, such as plotting with Matplotlib."
   ]
  },
  {
   "cell_type": "code",
   "execution_count": 30,
   "id": "a40732b1",
   "metadata": {},
   "outputs": [
    {
     "data": {
      "image/png": "[encoded data removed]",
      "text/plain": [
       "<Figure size 640x480 with 1 Axes>"
      ]
     },
     "metadata": {},
     "output_type": "display_data"
    }
   ],
   "source": [
    "import matplotlib.pyplot as plt\n",
    "%matplotlib inline\n",
    "\n",
    "plt.hist(my_python_var);\n",
    "plt.xticks(rotation='vertical');"
   ]
  },
  {
   "cell_type": "markdown",
   "id": "651dcb6b",
   "metadata": {},
   "source": [
    "## 02 Database and Table creation"
   ]
  },
  {
   "cell_type": "markdown",
   "id": "045ce129",
   "metadata": {},
   "source": [
    "We have already seen how to inspect the server to see which databases are present using the command:\n",
    "\n",
    "```mysql\n",
    "SHOW DATABASES;\n",
    "```\n",
    "\n",
    "To start interacting with a specific database, we can select it using `USE`:\n",
    "\n",
    "```mysql\n",
    "USE <DB_NAME>;\n",
    "```\n",
    "\n",
    "If the user has been granted the right to access this database, it's possible to start investigating its content."
   ]
  },
  {
   "cell_type": "markdown",
   "id": "05f1434e-dd26-4e73-ae47-e0cf822cc322",
   "metadata": {},
   "source": [
    "If we want to create a new database to work with instead, we can use the command:\n",
    "\n",
    "```mysql\n",
    "CREATE DATABASE <DB_NAME>;\n",
    "```\n",
    "\n",
    "A more complex syntax can be used to create a new database only if no other database with the same name already exists:\n",
    "\n",
    "```mysql\n",
    "CREATE DATABASE IF NOT EXISTS <DB_NAME>;\n",
    "```"
   ]
  },
  {
   "cell_type": "markdown",
   "id": "8c848513",
   "metadata": {},
   "source": [
    "- Check if a DB named `my_db` exists.\n",
    "- If not, create one. \n",
    "- Then, switch to the new DB to start using it."
   ]
  },
  {
   "cell_type": "code",
   "execution_count": null,
   "id": "34f5d67e",
   "metadata": {},
   "outputs": [],
   "source": [
    "%%sql \n",
    "\n",
    "CREATE DATABASE IF NOT EXISTS my_db;\n",
    "USE my_db;"
   ]
  },
  {
   "cell_type": "markdown",
   "id": "01bd56f7",
   "metadata": {},
   "source": [
    "All tables contained in the DB are shown in a similar way to what used to show all DBs on the server:\n",
    "\n",
    "```mysql\n",
    "SHOW TABLES;\n",
    "```\n",
    "\n",
    "**NB**: we are inspecting the content of a specific DB (the one selected with `USE <DB_NAME>`)"
   ]
  },
  {
   "cell_type": "code",
   "execution_count": null,
   "id": "d36532bf",
   "metadata": {},
   "outputs": [],
   "source": [
    "%%sql\n",
    "\n",
    "SHOW TABLES;"
   ]
  },
  {
   "cell_type": "markdown",
   "id": "c27b3ca7",
   "metadata": {},
   "source": [
    "The analogous Pythonic way to execute the same list of commands (using the `mysql.connector` driver) is the following:\n",
    "\n",
    "**NB**: This time we are not retrieving results from the server, but are instead asking the DBMS to _create_ a new database. We are issuing a request that requires us to **commit** a change in the MySQL server"
   ]
  },
  {
   "cell_type": "code",
   "execution_count": null,
   "id": "a834bc57",
   "metadata": {},
   "outputs": [],
   "source": [
    "# defining the sql command line\n",
    "sql_ = \"CREATE DATABASE IF NOT EXISTS my_db;\"\n",
    "\n",
    "# instructing the cursor to execute it\n",
    "dbc.execute(sql_)\n",
    "\n",
    "# in this case the result of the sql transaction is not to return a list of items \n",
    "# it is instead a change in the DB structure\n",
    "# therefore, for the change to have an effect, the change is to be committed to the DB\n",
    "db.commit() "
   ]
  },
  {
   "cell_type": "markdown",
   "id": "5ece7e17",
   "metadata": {},
   "source": [
    "All other commands discussed so far (`USE` and `SHOW`), do not require any change to be committed, therefore we can simply issue them via the cursor.\n",
    "\n",
    "Creating new databases, or changing the structure (_schema_) or the content (_instance_) of a database, will instead require a `commit`."
   ]
  },
  {
   "cell_type": "code",
   "execution_count": null,
   "id": "f6f8d067",
   "metadata": {},
   "outputs": [],
   "source": [
    "# use the my_db database\n",
    "dbc.execute(\"USE my_db\")\n",
    "\n",
    "# show all tables\n",
    "dbc.execute(\"SHOW TABLES\")\n",
    "dbc.fetchall()"
   ]
  },
  {
   "cell_type": "markdown",
   "id": "17f8781c",
   "metadata": {},
   "source": [
    "So far the `my_db` database is empty, so let's use the same lines presented in the slides to create a dummy `Users` table.\n",
    "\n",
    "Any table can then be inspected to check its schema by listing all attributes.\n",
    "\n",
    "1. Begin by creating a `Users` table. Define the schema by specifying each attribute.\n",
    "2. Verify if it has been successfully created in the database. Use the `SHOW` command for this purpose.\n",
    "3. Inspect the schema of the `Users` table, execute the `DESCRIBE <TABLE_NAME>` command."
   ]
  },
  {
   "cell_type": "code",
   "execution_count": null,
   "id": "4d37adb0",
   "metadata": {},
   "outputs": [],
   "source": [
    "%%sql\n",
    "\n",
    "# create a table following the schema on the slides\n",
    "CREATE TABLE Users (\n",
    "    UserID    varchar(30),\n",
    "    BadgeNum  int(16),\n",
    "    FirstName varchar(255),\n",
    "    LastName  varchar(255),\n",
    "    Age       int,\n",
    "    OtherAttr float\n",
    ");"
   ]
  },
  {
   "cell_type": "code",
   "execution_count": null,
   "id": "66fa8b3c",
   "metadata": {},
   "outputs": [],
   "source": [
    "%%sql\n",
    "\n",
    "# show the tables in the current database\n",
    "SHOW TABLES;"
   ]
  },
  {
   "cell_type": "code",
   "execution_count": null,
   "id": "03aee261",
   "metadata": {},
   "outputs": [],
   "source": [
    "%%sql\n",
    "\n",
    "# describe the table `Users`\n",
    "DESCRIBE Users;"
   ]
  },
  {
   "cell_type": "markdown",
   "id": "959376c7",
   "metadata": {},
   "source": [
    "Following the previous examples, let's perform the same transactions using the `mysql.connector` driver. Since the `Users` table already exists, we will create a new table called `Users_py`.\n",
    "\n",
    "Remember the following points:\n",
    "\n",
    "- Utilize the DB Cursor to execute the transactions.\n",
    "- Transactions that change the content of the DB must be _committed_ to the DB.\n",
    "- Transactions returning the content of the DB host their results _in the cursor_."
   ]
  },
  {
   "cell_type": "code",
   "execution_count": null,
   "id": "08b57830",
   "metadata": {},
   "outputs": [],
   "source": [
    "# create a table following the schema on the slides\n",
    "sql = 'CREATE TABLE Users_py (\\\n",
    "       UserID    varchar(30),\\\n",
    "       BadgeNum  int(16),\\\n",
    "       FirstName varchar(255),\\\n",
    "       LastName  varchar(255),\\\n",
    "       Age       int,\\\n",
    "       OtherAttr float);'\n",
    "dbc.execute(sql)\n",
    "db.commit()"
   ]
  },
  {
   "cell_type": "code",
   "execution_count": null,
   "id": "47a353a2",
   "metadata": {},
   "outputs": [],
   "source": [
    "# show the tables in the current database\n",
    "dbc.execute(\"SHOW TABLES\")\n",
    "dbc.fetchall()"
   ]
  },
  {
   "cell_type": "code",
   "execution_count": null,
   "id": "ea6ff865",
   "metadata": {},
   "outputs": [],
   "source": [
    "# describe the table `Users_py`\n",
    "dbc.execute(\"DESCRIBE Users_py\")\n",
    "dbc.fetchall()"
   ]
  },
  {
   "cell_type": "markdown",
   "id": "362814c1",
   "metadata": {},
   "source": [
    "## 03 Declaring contstraints and altering tables"
   ]
  },
  {
   "cell_type": "markdown",
   "id": "c0443720",
   "metadata": {},
   "source": [
    "Before moving on, let's clean up all existing tables in our database.\n",
    "\n",
    "To remove an existing table from the database, you can use the following instruction:\n",
    "\n",
    "```mysql\n",
    "DROP TABLE IF EXISTS <NAME OF YOUR TABLE>;\n",
    "```\n",
    "\n",
    "**CAUTION**: Dropping a table deletes all records from that table and severs all connections with other tables based on foreign keys. This action can render the entire database unusable. Be extremely careful when executing this command."
   ]
  },
  {
   "cell_type": "code",
   "execution_count": null,
   "id": "c555b534",
   "metadata": {},
   "outputs": [],
   "source": [
    "%%sql \n",
    "\n",
    "# drop the table Users\n",
    "DROP TABLE IF EXISTS Users;"
   ]
  },
  {
   "cell_type": "markdown",
   "id": "710dad35",
   "metadata": {},
   "source": [
    "Let's also drop the `Users_py` table using the Python connector.\n",
    "This is once again an action that alters the database, thus we must `commit` it."
   ]
  },
  {
   "cell_type": "code",
   "execution_count": null,
   "id": "3a6d26e5",
   "metadata": {},
   "outputs": [],
   "source": [
    "# drop the table Users_py\n",
    "dbc.execute(\"DROP TABLE IF EXISTS Users_py\")\n",
    "db.commit()"
   ]
  },
  {
   "cell_type": "code",
   "execution_count": null,
   "id": "4cd9b099",
   "metadata": {},
   "outputs": [],
   "source": [
    "# inspect the content of the database\n",
    "dbc.execute(\"SHOW TABLES\")\n",
    "dbc.fetchall()"
   ]
  },
  {
   "cell_type": "markdown",
   "id": "6e686164",
   "metadata": {},
   "source": [
    "Create a new `products` table with the following schema:\n",
    "\n",
    "| Attribute    | Type    | Extra info | Constraint                |\n",
    "|--------------|---------|------------|---------------------------|\n",
    "| productID    | Integer |            | NOT NULL AUTO_INCREMENT  |\n",
    "| productName  | String  | Max length 30 | DEFAULT ''            |\n",
    "| unitPrice    | Float   |            | NOT NULL DEFAULT 99999.99|\n",
    "| unitsInStock | Integer | Unsigned   | NOT NULL DEFAULT 0        |\n",
    "\n",
    "\n",
    "The `productID` attribute will be our `PRIMARY KEY`.\n",
    "\n",
    "This can be declared either inline, or at the end of the table definition:\n",
    "\n",
    "```mysql\n",
    "productID INT NOT NULL UNIQUE AUTO_INCREMENT PRIMARY KEY\n",
    "```\n",
    "\n",
    "or \n",
    "\n",
    "```mysql\n",
    "productID INT NOT NULL UNIQUE AUTO_INCREMENT\n",
    "[...]\n",
    "PRIMARY KEY (productID)\n",
    "```"
   ]
  },
  {
   "cell_type": "code",
   "execution_count": null,
   "id": "90189133",
   "metadata": {},
   "outputs": [],
   "source": [
    "%%sql\n",
    "\n",
    "# create the products table\n",
    "CREATE TABLE IF NOT EXISTS products (\n",
    "         productID    INT          NOT NULL UNIQUE AUTO_INCREMENT PRIMARY KEY,\n",
    "         productName  VARCHAR(30)  DEFAULT '' ,\n",
    "         unitPrice    FLOAT        NOT NULL DEFAULT 99999.99,\n",
    "         unitsInStock INT UNSIGNED NOT NULL DEFAULT 0\n",
    ");"
   ]
  },
  {
   "cell_type": "code",
   "execution_count": null,
   "id": "4ee4e53f",
   "metadata": {},
   "outputs": [],
   "source": [
    "%%sql\n",
    "\n",
    "# inspect the table schema\n",
    "DESCRIBE products;"
   ]
  },
  {
   "cell_type": "markdown",
   "id": "d6603107",
   "metadata": {},
   "source": [
    "The table does not contain any constraints, default values, or foreign keys.\n",
    "\n",
    "The **schema** of a given table can be altered by adding/removing Attributes, as well as by adding constraints.\n",
    "\n",
    "Let's first add a new attribute to the table:\n",
    "\n",
    "| Attribute       | Type    | Extra info     | Constraint                |\n",
    "|-----------------|---------|----------------|---------------------------|\n",
    "| productID       | Integer |                | NOT NULL AUTO_INCREMENT  |\n",
    "| productName     | String  | Max length 30  | DEFAULT ''               |\n",
    "| unitPrice       | Float   |                | NOT NULL DEFAULT 99999.99|\n",
    "| unitsInStock    | Integer | Unsigned       | NOT NULL DEFAULT 0       |\n",
    "| **isDiscontinued** | **Bool** |              | NOT NULL                  |\n",
    "\n",
    "\n",
    "To alter the **schema** of a table and create a new column we can act on it with:\n",
    "\n",
    "```mysql\n",
    "ALTER TABLE <THE TABLE>\n",
    "ADD COLUMN <NEW COL> <THE NEW ATTRIBUTE DECLARATION>;\n",
    "```\n"
   ]
  },
  {
   "cell_type": "markdown",
   "id": "d0dda2e9",
   "metadata": {},
   "source": [
    "#### Alter the `products` table and add the `isDiscontinued` attribute"
   ]
  },
  {
   "cell_type": "code",
   "execution_count": null,
   "id": "7e3963ab",
   "metadata": {},
   "outputs": [],
   "source": [
    "%%sql\n",
    "\n",
    "# alter the table\n",
    "ALTER TABLE products\n",
    "ADD COLUMN isDiscontinued BOOL NOT NULL;"
   ]
  },
  {
   "cell_type": "code",
   "execution_count": null,
   "id": "c076d918",
   "metadata": {},
   "outputs": [],
   "source": [
    "%%sql\n",
    "\n",
    "# inspect the table schema\n",
    "DESCRIBE products;"
   ]
  },
  {
   "cell_type": "markdown",
   "id": "fb44152a",
   "metadata": {},
   "source": [
    "The `isDiscontinued` attribute does not contain any meaningful constraint or default value.\n",
    "Let's consider `0` as a good default value for this attribute:\n",
    "\n",
    "| Attribute | Type | Extra info | Constraint | \n",
    "| --- | --- | --- |--- |\n",
    "| productID   | Integer | | NOT NULL AUTO_INCREMENT |\n",
    "| productName | String | Max length 30 | DEFAULT '' |\n",
    "| unitPrice   | Float | | NOT NULL DEFAULT 99999.99|\n",
    "| unitsInStock | Integer | Unsigned | NOT NULL DEFAULT 0 |\n",
    "| isDiscontinued  | Bool | | NOT NULL **DEFAULT 0** |\n",
    "\n",
    "We can use the same `ALTER TABLE` instruction to do this, and set a new default:\n",
    "    \n",
    "```mysql\n",
    "ALTER TABLE <THE TABLE>\n",
    "ALTER <ATTRIBUTE> SET DEFAULT <NEW DEFAULT>;\n",
    "```"
   ]
  },
  {
   "cell_type": "code",
   "execution_count": null,
   "id": "a48d16d3",
   "metadata": {},
   "outputs": [],
   "source": [
    "%%sql \n",
    "\n",
    "# alter the table\n",
    "ALTER TABLE products \n",
    "ALTER isDiscontinued SET DEFAULT 0;"
   ]
  },
  {
   "cell_type": "code",
   "execution_count": null,
   "id": "34fd03b5",
   "metadata": {},
   "outputs": [],
   "source": [
    "%%sql\n",
    "\n",
    "# inspect the table schema\n",
    "DESCRIBE products;"
   ]
  },
  {
   "cell_type": "markdown",
   "id": "1500dc54",
   "metadata": {},
   "source": [
    "We can also impose `productName` to be not-null by altering the table one final time.\n",
    "\n",
    "| Attribute | Type | Extra info | Constraint | \n",
    "| --- | --- | --- |--- |\n",
    "| productID   | Integer | | NOT NULL AUTO_INCREMENT |\n",
    "| productName | String | Max length 30 | **NOT NULL** DEFAULT '' |\n",
    "| unitPrice   | Float | | NOT NULL DEFAULT 99999.99|\n",
    "| unitsInStock | Integer | Unsigned | NOT NULL DEFAULT 0 |\n",
    "| isDiscontinued  | Bool | | NOT NULL DEFAULT 0 |\n",
    "\n",
    "\n",
    "In MySQL, this implies modifying the entire attribute, thus the Type will have to be re-stated:\n",
    "    \n",
    "```mysql\n",
    "ALTER TABLE <THE TABLE>\n",
    "MODIFY <ATTRIBUTE> <ATTRIBUTE TYPE> <CONSTRAINT>;\n",
    "```"
   ]
  },
  {
   "cell_type": "code",
   "execution_count": null,
   "id": "413885a2",
   "metadata": {},
   "outputs": [],
   "source": [
    "%%sql\n",
    "\n",
    "# alter the table\n",
    "ALTER TABLE products\n",
    "MODIFY productName VARCHAR(30) NOT NULL;"
   ]
  },
  {
   "cell_type": "code",
   "execution_count": null,
   "id": "9c3f5024",
   "metadata": {},
   "outputs": [],
   "source": [
    "%%sql\n",
    "\n",
    "# inspect the table schema\n",
    "DESCRIBE products;"
   ]
  },
  {
   "cell_type": "markdown",
   "id": "4f0cc301",
   "metadata": {},
   "source": [
    "Let's now create a `suppliers` table with the following description:\n",
    "\n",
    "| Attribute | Type | Extra info | Constraint | \n",
    "| --- | --- | --- |--- |\n",
    "| supplierID   | Integer | | NOT NULL AUTO_INCREMENT |\n",
    "| supplierName | String | Max length 30 | NOT NULL DEFAULT \"\" |\n",
    "| countryCode   | Char | Length 3 | NOT NULL |\n",
    "| email   | String | Max length 30  | NOT NULL |\n",
    "\n",
    "`supplierID` is going to act as the table's primary key in this case."
   ]
  },
  {
   "cell_type": "code",
   "execution_count": null,
   "id": "047652e7",
   "metadata": {},
   "outputs": [],
   "source": [
    "%%sql\n",
    "\n",
    "# create the suppliers table\n",
    "CREATE TABLE suppliers (\n",
    "    supplierID      INT NOT NULL UNIQUE AUTO_INCREMENT PRIMARY KEY,\n",
    "    supplierName    VARCHAR(30) NOT NULL DEFAULT \"\",\n",
    "    countryCode     CHAR(3) NOT NULL,\n",
    "    email           VARCHAR(30) NOT NULL\n",
    ");\n"
   ]
  },
  {
   "cell_type": "code",
   "execution_count": null,
   "id": "388c5176",
   "metadata": {},
   "outputs": [],
   "source": [
    "%%sql \n",
    "\n",
    "# inspect the table schema\n",
    "DESCRIBE suppliers;"
   ]
  },
  {
   "cell_type": "markdown",
   "id": "20235130",
   "metadata": {},
   "source": [
    "Alter the table to include a default \"ITA\" for `countryCode`"
   ]
  },
  {
   "cell_type": "code",
   "execution_count": null,
   "id": "88e112a7",
   "metadata": {},
   "outputs": [],
   "source": [
    "%%sql \n",
    "\n",
    "# alter the table\n",
    "ALTER TABLE suppliers \n",
    "ALTER countryCode SET DEFAULT \"---\";"
   ]
  },
  {
   "cell_type": "code",
   "execution_count": null,
   "id": "1f743d2f",
   "metadata": {},
   "outputs": [],
   "source": [
    "%%sql \n",
    "\n",
    "# inspect the table schema\n",
    "DESCRIBE suppliers;"
   ]
  },
  {
   "cell_type": "markdown",
   "id": "dc1acf30",
   "metadata": {},
   "source": [
    "To establish a relation between the `products` and `suppliers` tables, we have to consider that:\n",
    "    \n",
    "- a supplier can supply multiple products\n",
    "- a product can be supplied by multiple suppliers\n",
    "\n",
    "This is a **many-to-many** relationship, which requires a supporting external table.\n",
    "\n",
    "To establish a many-to-many relationship between the products and suppliers tables, we create a junction table named `supplier_to_product` with foreign keys referencing the `productID` from the `products` table and the `supplierID` from the `suppliers` table.\n",
    "\n",
    "Create a new `supplier_to_product` table with the following attributes:\n",
    "    \n",
    "| Attribute | Type | Extra info | Constraint | \n",
    "| --- | --- | --- |--- |\n",
    "| prodID   | Integer | | NOT NULL |\n",
    "| supID    | Integer | | NOT NULL |\n"
   ]
  },
  {
   "cell_type": "code",
   "execution_count": null,
   "id": "28dc7826",
   "metadata": {},
   "outputs": [],
   "source": [
    "%%sql\n",
    "\n",
    "# create the support table\n",
    "CREATE TABLE supplier_to_product (\n",
    "    prodID     INT NOT NULL,\n",
    "    supID      INT NOT NULL\n",
    ");"
   ]
  },
  {
   "cell_type": "markdown",
   "id": "c4a331ac",
   "metadata": {},
   "source": [
    "Neither `prodID` nor `supID` is a good primary key in this case, as we can have both appearing multiple times in the table.\n",
    "\n",
    "However, a good primary key for this table is the combination `(prodID,supID)` which is unique, and thus, a good key.\n",
    "\n",
    "We can alter the table to add the primary key statement:\n",
    "    \n",
    "```mysql\n",
    "ALTER TABLE <TABLE>\n",
    "ADD PRIMARY KEY (<ATTRIBUTE 1>, <ATTRIBUTE 2>);\n",
    "```"
   ]
  },
  {
   "cell_type": "code",
   "execution_count": null,
   "id": "3a767937",
   "metadata": {},
   "outputs": [],
   "source": [
    "%%sql\n",
    "\n",
    "# alter the table\n",
    "ALTER TABLE supplier_to_product\n",
    "ADD PRIMARY KEY (prodID, supID);"
   ]
  },
  {
   "cell_type": "code",
   "execution_count": null,
   "id": "ea9ada72",
   "metadata": {},
   "outputs": [],
   "source": [
    "%%sql \n",
    "\n",
    "# inspect the table schema\n",
    "DESCRIBE supplier_to_product;"
   ]
  },
  {
   "cell_type": "markdown",
   "id": "0cdf1d3f",
   "metadata": {},
   "source": [
    "Finally, we can link the 3 tables together by stating which attributes act as the foreign keys in the `supplier_to_product` table, and to which attributes in the parent tables they refer to.\n",
    "\n",
    "- `prodID` points to the `productID` attribute of `products` table\n",
    "- `supID` points to the `supplierID` attribute of `supplier` table\n",
    "\n",
    "This translates into:\n",
    "- `prodID` is a foreign key for `supplier_to_product`\n",
    "- `subID` is a foreign key for `supplier_to_product`\n",
    "- the combination `(prodID, supID)` is the primary key of `supplier_to_product`\n",
    "\n",
    "We can declare an attribute as a foreign key by altering the table:\n",
    "\n",
    "```mysql\n",
    "ALTER TABLE <TABLE>\n",
    "ADD FOREIGN KEY (<ATTRIBUTE IN THIS TABLE>) REFERENCES <OTHER TABLE>(<ATTRIBUTE IN OTHER TABLE>);\n",
    "```"
   ]
  },
  {
   "cell_type": "code",
   "execution_count": null,
   "id": "bc45af7e",
   "metadata": {},
   "outputs": [],
   "source": [
    "%%sql \n",
    "\n",
    "# alter the table\n",
    "ALTER TABLE supplier_to_product \n",
    "ADD CONSTRAINT FK_prod\n",
    "FOREIGN KEY (prodID) REFERENCES products(productID);"
   ]
  },
  {
   "cell_type": "code",
   "execution_count": null,
   "id": "2d7962d2",
   "metadata": {},
   "outputs": [],
   "source": [
    "%%sql \n",
    "\n",
    "# alter the table\n",
    "ALTER TABLE supplier_to_product \n",
    "ADD CONSTRAINT FK_sup\n",
    "FOREIGN KEY (supID) REFERENCES suppliers(supplierID);"
   ]
  },
  {
   "cell_type": "code",
   "execution_count": null,
   "id": "83be4b2c",
   "metadata": {},
   "outputs": [],
   "source": [
    "%%sql \n",
    "\n",
    "# inspect the table schema\n",
    "DESCRIBE supplier_to_product;"
   ]
  },
  {
   "cell_type": "markdown",
   "id": "f814bec8",
   "metadata": {},
   "source": [
    "## 04 Inserting Updating and Deleting records"
   ]
  },
  {
   "cell_type": "markdown",
   "id": "fe24a550",
   "metadata": {},
   "source": [
    "The tables are currently empty. \n",
    "We can inspect their content by performing a simple \"read\" query using `SELECT`.\n",
    "We will discuss later the full syntax of the `SELECT` statement... for the time being, it's important to realize that this command will show the entire content of all columns of the table we are inspecting.\n",
    "\n",
    "```mysql\n",
    "SELECT * FROM <TABLE>;\n",
    "```\n",
    "\n",
    "To insert a single record into a table we can proceed in either of the two following ways:\n",
    "\n",
    "1. By explicitly specifying the names of the columns when passing the tuple containing the values\n",
    "```mysql\n",
    "INSERT INTO <TABLE> (<COLUMN1>, <COLUMN2>, <COLUMN3>, ...)\n",
    "VALUES (<VALUE1>, <VALUE2>, <VALUE3>, ...);\n",
    "```\n",
    "This will work also in the case attributes with a default value will not be explicitly passed\n",
    "\n",
    "\n",
    "2. By implicitly using all the columns when passing the tuple containing the values\n",
    "```mysql\n",
    "INSERT INTO <TABLE> \n",
    "VALUES (<VALUE1>, <VALUE2>, ..., <VALUEn>);\n",
    "```\n",
    "\n",
    "**NB**: 1. is the usually recommended way to perform a data insertion in SQL, as (pretty much always in coding) **explicit is better than implicit**"
   ]
  },
  {
   "cell_type": "markdown",
   "id": "1df79446",
   "metadata": {},
   "source": [
    "Using the `mysql.connector` we can formulate the same data insertion in a more Pythonic way, e.g. to include this statement programmatically into a loop or a function call:\n",
    "    \n",
    "```python\n",
    "sql_ = \"INSERT INTO <TABLE> (<COLUMN1>, <COLUMN2>, <COLUMN3>, ...) VALUES (%s, %s, %s, ...)\"\n",
    "val_ = (<VALUE1>, <VALUE2>, <VALUE3>, ...)\n",
    "db_cursor.execute(sql_, val_)\n",
    "db.commit()\n",
    "```\n",
    "\n",
    "Being an active change to the database instance, remember to commit the insert."
   ]
  },
  {
   "cell_type": "markdown",
   "id": "1729007b",
   "metadata": {},
   "source": [
    "#### Perform a simple data insertion\n",
    "\n",
    "- Verify that the product table is actually empty.\n",
    "- Insert the following list of products into the `products` table.\n",
    "- Check the content of the table after the transaction to verify that both the `AUTO_INCREMENT` key and the default values have been taken into account.\n",
    "\n",
    "| productName | unitPrice | unitsInStock | isDiscontinued | \n",
    "| --- | --- | --- |--- |\n",
    "| \"Founders Porter\" | 4.9 | 12 | 0 |\n"
   ]
  },
  {
   "cell_type": "code",
   "execution_count": null,
   "id": "77043333",
   "metadata": {},
   "outputs": [],
   "source": [
    "%%sql \n",
    "\n",
    "# retrieve the content of the table\n",
    "SELECT * FROM products;"
   ]
  },
  {
   "cell_type": "code",
   "execution_count": null,
   "id": "60d0e8b6",
   "metadata": {},
   "outputs": [],
   "source": [
    "%%sql\n",
    "\n",
    "# insert records into the table\n",
    "INSERT INTO products (productName, unitPrice, unitsInStock)\n",
    "VALUES ('Founders Porter',4.9 ,12);"
   ]
  },
  {
   "cell_type": "code",
   "execution_count": null,
   "id": "9213b1fd",
   "metadata": {},
   "outputs": [],
   "source": [
    "%%sql \n",
    "\n",
    "# retrieve the content of the table\n",
    "SELECT * FROM products;"
   ]
  },
  {
   "cell_type": "markdown",
   "id": "df5f4ee3",
   "metadata": {},
   "source": [
    "Multi-values insert can be performed in a similar way by separating multiple tuples with a comma:\n",
    "\n",
    "```mysql\n",
    "INSERT INTO <TABLE> (<COLUMN1>, <COLUMN2>, <COLUMN3>, ...)\n",
    "VALUES \n",
    "(<VALUE11>, <VALUE12>, <VALUE13>, ...), \n",
    "(<VALUE21>, <VALUE22>, <VALUE23>, ...), \n",
    "(<VALUE31>, <VALUE32>, <VALUE33>, ...);\n",
    "```\n",
    "\n",
    "\n",
    "The Python-based command is similar to the previous one, but it drops the `execute` in favor of `executemany`, using a list of tuples as values:\n",
    "\n",
    "```python\n",
    "sql_ = \"INSERT INTO <TABLE> (<COLUMN1>, <COLUMN2>, <COLUMN3>, ...) VALUES (%s, %s, %s, ...)\"\n",
    "val_ = [\n",
    "    (<VALUE11>, <VALUE12>, <VALUE13>, ...),\n",
    "    (<VALUE21>, <VALUE22>, <VALUE23>, ...),\n",
    "    (<VALUE31>, <VALUE32>, <VALUE33>, ...) ]\n",
    "db_cursor.executemany(sql_, val_)\n",
    "db.commit()\n",
    "```"
   ]
  },
  {
   "cell_type": "markdown",
   "id": "f463c2ef",
   "metadata": {},
   "source": [
    "Add a few more products to the `product` table:\n",
    "    \n",
    "| productName | unitPrice | unitsInStock | isDiscontinued | \n",
    "| --- | --- | --- |--- |\n",
    "| \"Punk IPA\" | 5.2 | 45 |  |\n",
    "| \"HB Dunkel\" | 4.5 | 250 |  |\n",
    "| \"Forst Xmas \" | 8.0 | 2 |  |\n",
    "| \"Damm Complot \" | 3.7 | 120 |  |\n",
    "     "
   ]
  },
  {
   "cell_type": "code",
   "execution_count": null,
   "id": "0433c281",
   "metadata": {},
   "outputs": [],
   "source": [
    "# insert records into the table\n",
    "sql_ = \"INSERT INTO products (productName, unitPrice, unitsInStock) VALUES (%s, %s, %s)\"\n",
    "val_ = [\n",
    "    ('Punk IPA',     5.2,  45),\n",
    "    ('HB Dunkel',    4.5, 250),\n",
    "    ('Forst Xmas',   8.0,   2),\n",
    "    ('Damm Complot', 3.7, 120)]\n",
    "dbc.executemany(sql_, val_)\n",
    "db.commit()\n",
    "     \n",
    "dbc.execute(\"SELECT * FROM products\"); \n",
    "dbc.fetchall()"
   ]
  },
  {
   "cell_type": "markdown",
   "id": "48a71bab",
   "metadata": {},
   "source": [
    "Updating entries is a delicate issue in databases, as we can potentially modify all records associated with a number of conditions. This makes the update operation quite powerful and possibly error-prone if not performed with extreme caution.\n",
    "\n",
    "```mysql\n",
    "UPDATE <TABLE>\n",
    "SET <ATTRIBUTE> = <NEW VALUE>\n",
    "WHERE <CONDITION>;\n",
    "```\n",
    "\n",
    "or\n",
    "\n",
    "```python\n",
    "sql_ = \"UPDATE <TABLE> SET <ATTRIBUTE> = <NEW VALUE> WHERE <CONDITION>\"\n",
    "db_cursor.execute(sql)\n",
    "db.commit()\n",
    "\n",
    "```\n",
    "\n",
    "#### Let's update a single record with a \"very explicit\" condition statement:\n",
    "\n",
    "- Assign `isDiscontinued` equal to `1` to the \"Forst Xmas\" product.\n",
    "- Check if the update has taken place."
   ]
  },
  {
   "cell_type": "code",
   "execution_count": null,
   "id": "b7314cfc",
   "metadata": {},
   "outputs": [],
   "source": [
    "%%sql\n",
    "\n",
    "# update the content of the table\n",
    "UPDATE products \n",
    "SET isDiscontinued = 1\n",
    "WHERE productName = \"Forst Xmas\";"
   ]
  },
  {
   "cell_type": "markdown",
   "id": "211e9d47",
   "metadata": {},
   "source": [
    "Similarly, deleting entries is quite risky if not done with plenty of caution, as a wrong `WHERE` condition might inadvertently lead to the deletion of a large part of your database records. \n",
    "\n",
    "Remember, with `DELETE`, we remove entire records (i.e., tuples) from the database, not just the content of the `WHERE` conditional statement. \n",
    "\n",
    "```mysql\n",
    "DELETE FROM <TABLE>\n",
    "WHERE <CONDITION>;\n",
    "```\n",
    "\n",
    "or\n",
    "\n",
    "```python\n",
    "sql_ = \"DELETE FROM <TABLE> WHERE <CONDITION>\"\n",
    "db_cursor.execute(sql)\n",
    "db.commit()\n",
    "\n",
    "```\n",
    "\n",
    "#### Delete all records under a set of conditions:\n",
    "\n",
    "- Delete all products whose name begins with 'F' and ends with 's'.\n",
    "- Check if the deletion has taken place."
   ]
  },
  {
   "cell_type": "code",
   "execution_count": null,
   "id": "7d9d6b73",
   "metadata": {},
   "outputs": [],
   "source": [
    "%%sql\n",
    "\n",
    "# delete records from the table\n",
    "DELETE FROM products \n",
    "WHERE productName LIKE \"F%s\";"
   ]
  },
  {
   "cell_type": "code",
   "execution_count": null,
   "id": "d3073944",
   "metadata": {},
   "outputs": [],
   "source": [
    "%%sql\n",
    "\n",
    "# retrieve the content of the table\n",
    "SELECT * FROM products;"
   ]
  },
  {
   "cell_type": "markdown",
   "id": "b1d2c12b",
   "metadata": {},
   "source": [
    "#### Populate the `suppliers` table according to the following list\n",
    "\n",
    "| supplierName | countryCode | email|\n",
    "| --- | --- | ---|\n",
    "| \"A hop in the park\" | \"USA\" | \"contactme@ahop.com\" |\n",
    "| \"Allez Hops! Cave à bièr\" | \"FRA\" | \"itsme@allezhops.com\" |\n",
    "| \"Wild Hops \" | \"ITA\" | \"myemail@wildhops.it\" |\n",
    "|\"Beer Paradise\"|\"ITA\"|\"beer@beerparadise.it\"|\n"
   ]
  },
  {
   "cell_type": "code",
   "execution_count": null,
   "id": "ceeb23b1",
   "metadata": {},
   "outputs": [],
   "source": [
    "%%sql\n",
    "\n",
    "# insert records into the table\n",
    "INSERT INTO suppliers (supplierName, countryCode, email) VALUES\n",
    "(\"A hop in the park\",\"USA\",\"contactme@ahop.com\"),\n",
    "(\"Allez Hops! Cave à bièr\",\"FRA\",\"itsme@allezhops.com\"),\n",
    "(\"Wild Hops\",\"ITA\",\"myemail@wildhops.it\"),\n",
    "(\"Beer Paradise\",\"ITA\",\"beer@beerparadise.it\");"
   ]
  },
  {
   "cell_type": "code",
   "execution_count": null,
   "id": "7ba0fb13",
   "metadata": {},
   "outputs": [],
   "source": [
    "%%sql\n",
    "\n",
    "# retrieve the content of the table\n",
    "SELECT * FROM suppliers;"
   ]
  },
  {
   "cell_type": "markdown",
   "id": "1ae2a140",
   "metadata": {},
   "source": [
    "Complete the database with the two additional steps:\n",
    "\n",
    "- Update the \"A hop in the park\" email address to \"anewemail@ahop.com\"\n",
    "- Populate the table of connections between products and suppliers\n",
    "    - Remember that the `supplier_to_product` table is linked to the other two via the respective Foreign Keys \n",
    "\n",
    "| supplier | products provided |\n",
    "| --- | --- | \n",
    "| \"A hop in the park\" | \"Punk IPA\", \"HB Dunkel\" |"
   ]
  },
  {
   "cell_type": "code",
   "execution_count": null,
   "id": "3bb5a042",
   "metadata": {},
   "outputs": [],
   "source": [
    "sql_ = \"UPDATE suppliers SET email = %s WHERE supplierName LIKE %s;\"\n",
    "val_ = ('anewemail@ahop.com', 'A hop%')\n",
    "dbc.execute(sql_, val_)\n",
    "db.commit()\n",
    "     \n",
    "dbc.execute(\"SELECT * FROM suppliers\"); \n",
    "for _ in dbc:\n",
    "     print(_)"
   ]
  },
  {
   "cell_type": "code",
   "execution_count": null,
   "id": "d97b44b9",
   "metadata": {},
   "outputs": [],
   "source": [
    "%%sql \n",
    "\n",
    "SELECT * FROM products;"
   ]
  },
  {
   "cell_type": "code",
   "execution_count": null,
   "id": "9cc19220",
   "metadata": {},
   "outputs": [],
   "source": [
    "%%sql \n",
    "\n",
    "SELECT * FROM suppliers;"
   ]
  },
  {
   "cell_type": "code",
   "execution_count": null,
   "id": "ed7fd828",
   "metadata": {},
   "outputs": [],
   "source": [
    "%%sql \n",
    "\n",
    "SELECT * FROM supplier_to_product;"
   ]
  },
  {
   "cell_type": "code",
   "execution_count": null,
   "id": "2edd4989",
   "metadata": {},
   "outputs": [],
   "source": [
    "%%sql\n",
    "\n",
    "INSERT INTO supplier_to_product\n",
    "VALUES \n",
    "(2,1),\n",
    "(3,1);"
   ]
  },
  {
   "cell_type": "code",
   "execution_count": null,
   "id": "5f054ddf",
   "metadata": {
    "scrolled": true
   },
   "outputs": [],
   "source": [
    "%%sql \n",
    "\n",
    "SELECT * FROM supplier_to_product;"
   ]
  },
  {
   "cell_type": "markdown",
   "id": "6efb0512",
   "metadata": {},
   "source": [
    "Export the DB you have created into a .sql file, and store it for later use.\n",
    "\n",
    "1. Connect to the \"server\" Docker container using bash\n",
    "2. Dump the database using the `mysqldump` command \n",
    "```bash\n",
    "$ mysqldump -u <USER> -p <DB NAME>  >  <FULL/PATH/TO/NEW/DB_DUMP.sql>\n",
    "```\n",
    "3. use the folder `/mapd-workspace/dbs` to store the file, as it's the one currently visible from both in- and outside the container"
   ]
  },
  {
   "cell_type": "markdown",
   "id": "b6e3c94e",
   "metadata": {},
   "source": [
    "## 04 Basic queries "
   ]
  },
  {
   "cell_type": "markdown",
   "id": "7f903ed5",
   "metadata": {},
   "source": [
    "The `SELECT` statement allows us to perform queries and retrieve data from a DB.\n",
    "\n",
    "We can perform queries on a single table in the DB, as well as perform complex queries that span multiple interconnected tables, with one-to-one, one-to-many, and many-to-many relationships across records.\n",
    "\n",
    "Any `SELECT` statement is composed of at least:\n",
    "\n",
    "```sql\n",
    "SELECT <TABLE1.ATTRIBUTE1>, <TABLE2.ATTRIBUTE2>   --# the list of attributes to show\n",
    "                                                  --# the * wildcard symbol means ALL attributes\n",
    "    \n",
    "FROM <TABLE1>, <TABLE2>                           --# the table, or list of tables \n",
    "                                                  --# from which to extract the attributes\n",
    "\n",
    "WHERE <CONDITIONS>                                --# (optional) condition statement\n",
    "```\n",
    "\n",
    "The same structure applies to Python-based connectors:\n",
    "\n",
    "```python\n",
    "db_cursor.execute(\"\"\"\n",
    "    SELECT <TABLE1.ATTRIBUTE1>, <TABLE2.ATTRIBUTE2>\n",
    "    FROM <TABLE1>, <TABLE2>\n",
    "    WHERE <CONDITIONS>\n",
    "\"\"\")\n",
    "res_ = db_cursor.fetchall()\n",
    "for _ in res_:\n",
    "    print(_)\n",
    "```\n",
    "\n",
    "As an alternative, `db_cursor.fetchone()` can be used to print out only one of possibly many records."
   ]
  },
  {
   "cell_type": "markdown",
   "id": "2a3bae29",
   "metadata": {},
   "source": [
    "#### Get the email of all suppliers from Italy"
   ]
  },
  {
   "cell_type": "code",
   "execution_count": null,
   "id": "1a67d7cb",
   "metadata": {},
   "outputs": [],
   "source": [
    "%%sql\n",
    "\n",
    "SELECT email\n",
    "FROM suppliers\n",
    "WHERE countryCode=\"ITA\";"
   ]
  },
  {
   "cell_type": "markdown",
   "id": "204da1bf",
   "metadata": {},
   "source": [
    "#### Get all information for products with unit price greater than 4"
   ]
  },
  {
   "cell_type": "code",
   "execution_count": null,
   "id": "55a8d28f",
   "metadata": {},
   "outputs": [],
   "source": [
    "%%sql\n",
    "\n",
    "SELECT *\n",
    "FROM products\n",
    "WHERE unitPrice>4;"
   ]
  },
  {
   "cell_type": "markdown",
   "id": "3c3c7ce0",
   "metadata": {},
   "source": [
    "#### Select all products with unit cost less than 5, and list them in descending order of units in stock"
   ]
  },
  {
   "cell_type": "code",
   "execution_count": null,
   "id": "75e4826c",
   "metadata": {},
   "outputs": [],
   "source": [
    "%%sql\n",
    "\n",
    "SELECT *\n",
    "FROM products\n",
    "WHERE unitPrice<5\n",
    "ORDER BY unitsInStock DESC;"
   ]
  },
  {
   "cell_type": "markdown",
   "id": "3c3b89b1",
   "metadata": {},
   "source": [
    "**Group by** is a common statement that allows us to perform data aggregation.\n",
    "\n",
    "If you're familiar with `pandas`, this should not be new to you.\n",
    "\n",
    "Just remember:\n",
    "1. No group by statement is possible without an aggregation function.\n",
    "2. Group by operations can be quite computationally expensive. In the case of large databases, group by operations might require a long time to execute."
   ]
  },
  {
   "cell_type": "markdown",
   "id": "6ec4ca2b",
   "metadata": {},
   "source": [
    "#### Plot the distribution of suppliers by country"
   ]
  },
  {
   "cell_type": "code",
   "execution_count": null,
   "id": "4daebdf0",
   "metadata": {},
   "outputs": [],
   "source": [
    "%%sql \n",
    "\n",
    "DESCRIBE suppliers;"
   ]
  },
  {
   "cell_type": "code",
   "execution_count": null,
   "id": "33a6c991",
   "metadata": {},
   "outputs": [],
   "source": [
    "res_ = %sql SELECT COUNT(countryCode) AS count, countryCode FROM suppliers GROUP BY countryCode;\n",
    "\n",
    "print (res_);\n",
    "\n",
    "res_.bar();"
   ]
  },
  {
   "cell_type": "markdown",
   "id": "6e432001",
   "metadata": {},
   "source": [
    "The main strength of Relational DBs is the possibility of matching information from different tables through **Join** operations.\n",
    "\n",
    "A join, either performed explicitly or implicitly is:\n",
    "\n",
    "1. Computationally expensive. In the case of large databases, join operations might require a long time to execute.\n",
    "2. Very easy to be done wrong, thus resulting in non-meaningful results.\n",
    "\n",
    "Be sure of which attributes (most often keys) you are performing a join operation on."
   ]
  },
  {
   "cell_type": "markdown",
   "id": "11a1d6a9",
   "metadata": {},
   "source": [
    "#### Join the `supplier_to_product` table with the `suppliers` table "
   ]
  },
  {
   "cell_type": "code",
   "execution_count": null,
   "id": "4bc795d1",
   "metadata": {},
   "outputs": [],
   "source": [
    "%%sql\n",
    "\n",
    "SELECT * \n",
    "FROM suppliers, supplier_to_product\n",
    "WHERE supplier_to_product.supID = suppliers.supplierID;"
   ]
  },
  {
   "cell_type": "code",
   "execution_count": null,
   "id": "0d7fa9ff",
   "metadata": {},
   "outputs": [],
   "source": [
    "%%sql\n",
    "\n",
    "SELECT * \n",
    "FROM suppliers\n",
    "INNER JOIN supplier_to_product ON supplier_to_product.supID = suppliers.supplierID;"
   ]
  },
  {
   "cell_type": "code",
   "execution_count": null,
   "id": "5320ecc7",
   "metadata": {},
   "outputs": [],
   "source": [
    "%%sql\n",
    "\n",
    "SELECT * \n",
    "FROM suppliers\n",
    "LEFT JOIN supplier_to_product ON supplier_to_product.supID = suppliers.supplierID;"
   ]
  },
  {
   "cell_type": "code",
   "execution_count": null,
   "id": "69e06305",
   "metadata": {},
   "outputs": [],
   "source": [
    "%%sql\n",
    "\n",
    "SELECT * \n",
    "FROM suppliers\n",
    "RIGHT JOIN supplier_to_product ON supplier_to_product.supID = suppliers.supplierID;"
   ]
  },
  {
   "cell_type": "markdown",
   "id": "caf6e72f",
   "metadata": {},
   "source": [
    "We can concatenate multiple join operations to extract higher-level information out of the connections stored in the database.\n",
    "\n",
    "#### Add the corresponding product names to the previous join"
   ]
  },
  {
   "cell_type": "code",
   "execution_count": null,
   "id": "beb2261a",
   "metadata": {},
   "outputs": [],
   "source": [
    "%%sql\n",
    "\n",
    "SELECT * \n",
    "FROM suppliers\n",
    "INNER JOIN supplier_to_product ON supplier_to_product.supID = suppliers.supplierID\n",
    "INNER JOIN products ON supplier_to_product.prodID = products.productID;"
   ]
  },
  {
   "cell_type": "markdown",
   "id": "bdc02965",
   "metadata": {},
   "source": [
    "The conjunction of `SELECT`, `GROUP BY`, and `JOIN` statements will allow us to extract non-trivial information out of any Relational database.\n",
    "\n",
    "#### Add the following records to the `supplier_to_product` table, and perform the following queries:\n",
    "    \n",
    "| supplier | products provided |\n",
    "| --- | --- | \n",
    "| \"Wild Hops\" | \"Founders Porter\", \"Punk IPA\", \"HB Dunkel\", \"Damm Complot\" |    \n",
    "| \"Beer Paradise\" | \"Punk IPA\", \"Damm Complot\" |    \n",
    "| \"Allez Hops! Cave à bièr\" | \"Founders Porter\", \"HB Dunkel\" |    \n",
    "\n",
    "1. show all suppliers of \"Damm Complot\"\n",
    "2. retrieve the email address of all possible suppliers of \"Punk IPA\"\n",
    "3. list the unit price of all products supplied by Italian firms, listed in descending order (of unit price)  "
   ]
  },
  {
   "cell_type": "code",
   "execution_count": null,
   "id": "1796e1fe",
   "metadata": {},
   "outputs": [],
   "source": [
    "sql_ = \"INSERT INTO supplier_to_product (prodID, supID) VALUES (%s, %s)\"\n",
    "val_ = [\n",
    "    # supplier Allez Hops\n",
    "    (1, 2),\n",
    "    (3, 2),\n",
    "\n",
    "    # supplier Wild Hops\n",
    "    (1, 3),\n",
    "    (2, 3),\n",
    "    (3, 3),\n",
    "    (5, 3),\n",
    "\n",
    "    # supplier Beer Paradise\n",
    "    (2, 4),\n",
    "    (5, 4),\n",
    "]\n",
    "\n",
    "\n",
    "dbc.executemany(sql_, val_)\n",
    "db.commit()\n",
    "     \n",
    "dbc.execute(\"SELECT * FROM supplier_to_product\"); \n",
    "for _ in dbc:\n",
    "     print(_)"
   ]
  },
  {
   "cell_type": "code",
   "execution_count": null,
   "id": "da587e06",
   "metadata": {},
   "outputs": [],
   "source": [
    "%%sql\n",
    "\n",
    "SELECT suppliers.supplierName\n",
    "FROM supplier_to_product\n",
    "INNER JOIN suppliers ON supplier_to_product.supID = suppliers.supplierID\n",
    "INNER JOIN products ON supplier_to_product.prodID = products.productID\n",
    "WHERE products.productName = \"Punk IPA\";"
   ]
  },
  {
   "cell_type": "code",
   "execution_count": null,
   "id": "7fcd95d8",
   "metadata": {},
   "outputs": [],
   "source": [
    "%%sql\n",
    "\n",
    "SELECT suppliers.email \n",
    "FROM supplier_to_product\n",
    "INNER JOIN suppliers ON supplier_to_product.supID = suppliers.supplierID\n",
    "INNER JOIN products ON supplier_to_product.prodID = products.productID\n",
    "WHERE products.productName = \"Punk IPA\";"
   ]
  },
  {
   "cell_type": "code",
   "execution_count": null,
   "id": "e5f990bf",
   "metadata": {},
   "outputs": [],
   "source": [
    "%%sql\n",
    "\n",
    "SELECT DISTINCT products.unitPrice, products.productName\n",
    "FROM supplier_to_product\n",
    "INNER JOIN suppliers ON supplier_to_product.supID = suppliers.supplierID\n",
    "INNER JOIN products ON supplier_to_product.prodID = products.productID\n",
    "WHERE suppliers.countryCode = \"ITA\"\n",
    "ORDER BY unitPrice DESC;"
   ]
  },
  {
   "cell_type": "markdown",
   "id": "213be6c6",
   "metadata": {},
   "source": [
    "## 05 Queries on well-formed DBs\n",
    "\n",
    "In MySQL, we can load entire databases from external files.\n",
    "\n",
    "The files will contain the full database structure (tables and constraints) and will populate all tables with all records.\n",
    "\n",
    "To load a database into the MySQL server from the interactive Docker shell, we can simply do the following:\n",
    "\n",
    "1. Create a new database named `world`.\n",
    "2. Import the content of the file `/mapd-workspace/dbs/world.sql` into the newly created database via:\n",
    "\n",
    "```bash\n",
    "$ mysql -u root -p world < /mapd-workspace/dbs/world.sql\n",
    "```\n",
    "\n",
    "**NB**: The `/mapd-workspace` directory has been defined as a Docker Volume and is a shared location with your computer."
   ]
  },
  {
   "cell_type": "markdown",
   "id": "33389e65",
   "metadata": {},
   "source": [
    "#### Using the `world` DB, perform queries to answer the following questions.\n",
    "\n",
    "Additional references can be found here https://dev.mysql.com/doc/world-setup/en/\n",
    "\n",
    "\n",
    "Use a **single query** to answer the questions:\n",
    "\n",
    "1. Which country has the largest population?\n",
    "2. Get the total number of cities in Canada.\n",
    "3. Select the country with the most cities.\n",
    "4. List all the languages spoken in the Southeast Asia region.\n",
    "5. Identify the 5 most spoken languages by number of countries.\n",
    "6. What is the total population of the cities in the Caribbean region?\n",
    "7. What Countries have a City named \"Kingston\"?\n",
    "8. Plot the population density by country, limiting to the 25 with the least density.\n",
    "9. Plot the GNP (Gross Nation Product) of all countries that become independent between 1850 and 1910, limiting to the 10 with the highest GNP.\n",
    "10. Create a scatter plot of the life expectancy vs the GNP of all countries that have Spanish as their Official language.\n",
    "\n",
    "\n",
    "##### Suggestions:\n",
    "- Start by inspecting the database tables' structure\n",
    "- When in doubt, check the table content by selecting only a few lines (use `LIMIT` to avoid returning all records)\n",
    "- Before finalizing the query, you can always perform \"intermediate\" queries to check if complex operations (e.g. `GROUP BY` and `JOIN`) are stated correctly"
   ]
  },
  {
   "cell_type": "code",
   "execution_count": 9,
   "id": "c33df49a",
   "metadata": {
    "scrolled": true
   },
   "outputs": [
    {
     "name": "stdout",
     "output_type": "stream",
     "text": [
      " * mysql+mysqlconnector://root:***@db\n",
      "0 rows affected.\n",
      "3 rows affected.\n"
     ]
    },
    {
     "data": {
      "text/html": [
       "<table>\n",
       "    <thead>\n",
       "        <tr>\n",
       "            <th>Tables_in_world</th>\n",
       "        </tr>\n",
       "    </thead>\n",
       "    <tbody>\n",
       "        <tr>\n",
       "            <td>city</td>\n",
       "        </tr>\n",
       "        <tr>\n",
       "            <td>country</td>\n",
       "        </tr>\n",
       "        <tr>\n",
       "            <td>countrylanguage</td>\n",
       "        </tr>\n",
       "    </tbody>\n",
       "</table>"
      ],
      "text/plain": [
       "[('city',), ('country',), ('countrylanguage',)]"
      ]
     },
     "execution_count": 9,
     "metadata": {},
     "output_type": "execute_result"
    }
   ],
   "source": [
    "%%sql\n",
    "\n",
    "USE world; \n",
    "\n",
    "SHOW TABLES;"
   ]
  },
  {
   "cell_type": "markdown",
   "id": "962bf1c9",
   "metadata": {},
   "source": [
    "#### 1 - Which country has the largest population?"
   ]
  },
  {
   "cell_type": "code",
   "execution_count": 10,
   "id": "917f715b",
   "metadata": {
    "scrolled": true
   },
   "outputs": [
    {
     "name": "stdout",
     "output_type": "stream",
     "text": [
      " * mysql+mysqlconnector://root:***@db\n",
      "1 rows affected.\n"
     ]
    },
    {
     "data": {
      "text/html": [
       "<table>\n",
       "    <thead>\n",
       "        <tr>\n",
       "            <th>name</th>\n",
       "        </tr>\n",
       "    </thead>\n",
       "    <tbody>\n",
       "        <tr>\n",
       "            <td>China</td>\n",
       "        </tr>\n",
       "    </tbody>\n",
       "</table>"
      ],
      "text/plain": [
       "[('China',)]"
      ]
     },
     "execution_count": 10,
     "metadata": {},
     "output_type": "execute_result"
    }
   ],
   "source": [
    "%%sql \n",
    "\n",
    "SELECT name \n",
    "FROM country \n",
    "ORDER BY Population DESC \n",
    "LIMIT 1;"
   ]
  },
  {
   "cell_type": "markdown",
   "id": "132f54ba",
   "metadata": {},
   "source": [
    "#### 2 - Get the total number of cities in Canada."
   ]
  },
  {
   "cell_type": "code",
   "execution_count": 11,
   "id": "5ef438fe",
   "metadata": {
    "scrolled": true
   },
   "outputs": [
    {
     "name": "stdout",
     "output_type": "stream",
     "text": [
      " * mysql+mysqlconnector://root:***@db\n",
      "1 rows affected.\n"
     ]
    },
    {
     "data": {
      "text/html": [
       "<table>\n",
       "    <thead>\n",
       "        <tr>\n",
       "            <th>COUNT(CountryCode)</th>\n",
       "        </tr>\n",
       "    </thead>\n",
       "    <tbody>\n",
       "        <tr>\n",
       "            <td>49</td>\n",
       "        </tr>\n",
       "    </tbody>\n",
       "</table>"
      ],
      "text/plain": [
       "[(49,)]"
      ]
     },
     "execution_count": 11,
     "metadata": {},
     "output_type": "execute_result"
    }
   ],
   "source": [
    "%%sql \n",
    "\n",
    "SELECT COUNT(CountryCode) \n",
    "FROM city \n",
    "WHERE CountryCode = \"CAN\";"
   ]
  },
  {
   "cell_type": "markdown",
   "id": "3aa6bf99",
   "metadata": {},
   "source": [
    "#### 3 - Select the country with the most cities."
   ]
  },
  {
   "cell_type": "code",
   "execution_count": 12,
   "id": "b83bf346",
   "metadata": {},
   "outputs": [
    {
     "name": "stdout",
     "output_type": "stream",
     "text": [
      " * mysql+mysqlconnector://root:***@db\n",
      "1 rows affected.\n"
     ]
    },
    {
     "data": {
      "text/html": [
       "<table>\n",
       "    <thead>\n",
       "        <tr>\n",
       "            <th>CountryCode</th>\n",
       "        </tr>\n",
       "    </thead>\n",
       "    <tbody>\n",
       "        <tr>\n",
       "            <td>CHN</td>\n",
       "        </tr>\n",
       "    </tbody>\n",
       "</table>"
      ],
      "text/plain": [
       "[('CHN',)]"
      ]
     },
     "execution_count": 12,
     "metadata": {},
     "output_type": "execute_result"
    }
   ],
   "source": [
    "%%sql \n",
    "\n",
    "SELECT CountryCode \n",
    "FROM city \n",
    "GROUP BY CountryCode \n",
    "ORDER BY COUNT(CountryCode) DESC \n",
    "LIMIT 1;"
   ]
  },
  {
   "cell_type": "markdown",
   "id": "ede586ff",
   "metadata": {},
   "source": [
    "#### 4 - List all the languages spoken in the Southeast Asia region."
   ]
  },
  {
   "cell_type": "code",
   "execution_count": 13,
   "id": "18633ba2",
   "metadata": {
    "scrolled": true
   },
   "outputs": [
    {
     "name": "stdout",
     "output_type": "stream",
     "text": [
      " * mysql+mysqlconnector://root:***@db\n",
      "47 rows affected.\n"
     ]
    },
    {
     "data": {
      "text/html": [
       "<table>\n",
       "    <thead>\n",
       "        <tr>\n",
       "            <th>Language</th>\n",
       "        </tr>\n",
       "    </thead>\n",
       "    <tbody>\n",
       "        <tr>\n",
       "            <td>Bali</td>\n",
       "        </tr>\n",
       "        <tr>\n",
       "            <td>Banja</td>\n",
       "        </tr>\n",
       "        <tr>\n",
       "            <td>Batakki</td>\n",
       "        </tr>\n",
       "        <tr>\n",
       "            <td>Bicol</td>\n",
       "        </tr>\n",
       "        <tr>\n",
       "            <td>Bugi</td>\n",
       "        </tr>\n",
       "        <tr>\n",
       "            <td>Burmese</td>\n",
       "        </tr>\n",
       "        <tr>\n",
       "            <td>Cebuano</td>\n",
       "        </tr>\n",
       "        <tr>\n",
       "            <td>Chin</td>\n",
       "        </tr>\n",
       "        <tr>\n",
       "            <td>Chinese</td>\n",
       "        </tr>\n",
       "        <tr>\n",
       "            <td>Dusun</td>\n",
       "        </tr>\n",
       "        <tr>\n",
       "            <td>English</td>\n",
       "        </tr>\n",
       "        <tr>\n",
       "            <td>Hiligaynon</td>\n",
       "        </tr>\n",
       "        <tr>\n",
       "            <td>Iban</td>\n",
       "        </tr>\n",
       "        <tr>\n",
       "            <td>Ilocano</td>\n",
       "        </tr>\n",
       "        <tr>\n",
       "            <td>Javanese</td>\n",
       "        </tr>\n",
       "        <tr>\n",
       "            <td>Kachin</td>\n",
       "        </tr>\n",
       "        <tr>\n",
       "            <td>Karen</td>\n",
       "        </tr>\n",
       "        <tr>\n",
       "            <td>Kayah</td>\n",
       "        </tr>\n",
       "        <tr>\n",
       "            <td>Khmer</td>\n",
       "        </tr>\n",
       "        <tr>\n",
       "            <td>Kuy</td>\n",
       "        </tr>\n",
       "        <tr>\n",
       "            <td>Lao</td>\n",
       "        </tr>\n",
       "        <tr>\n",
       "            <td>Lao-Soung</td>\n",
       "        </tr>\n",
       "        <tr>\n",
       "            <td>Madura</td>\n",
       "        </tr>\n",
       "        <tr>\n",
       "            <td>Maguindanao</td>\n",
       "        </tr>\n",
       "        <tr>\n",
       "            <td>Malay</td>\n",
       "        </tr>\n",
       "        <tr>\n",
       "            <td>Malay-English</td>\n",
       "        </tr>\n",
       "        <tr>\n",
       "            <td>Man</td>\n",
       "        </tr>\n",
       "        <tr>\n",
       "            <td>Maranao</td>\n",
       "        </tr>\n",
       "        <tr>\n",
       "            <td>Miao</td>\n",
       "        </tr>\n",
       "        <tr>\n",
       "            <td>Minangkabau</td>\n",
       "        </tr>\n",
       "        <tr>\n",
       "            <td>Mon</td>\n",
       "        </tr>\n",
       "        <tr>\n",
       "            <td>Mon-khmer</td>\n",
       "        </tr>\n",
       "        <tr>\n",
       "            <td>Muong</td>\n",
       "        </tr>\n",
       "        <tr>\n",
       "            <td>Nung</td>\n",
       "        </tr>\n",
       "        <tr>\n",
       "            <td>Pampango</td>\n",
       "        </tr>\n",
       "        <tr>\n",
       "            <td>Pangasinan</td>\n",
       "        </tr>\n",
       "        <tr>\n",
       "            <td>Pilipino</td>\n",
       "        </tr>\n",
       "        <tr>\n",
       "            <td>Portuguese</td>\n",
       "        </tr>\n",
       "        <tr>\n",
       "            <td>Rakhine</td>\n",
       "        </tr>\n",
       "        <tr>\n",
       "            <td>Shan</td>\n",
       "        </tr>\n",
       "        <tr>\n",
       "            <td>Sunda</td>\n",
       "        </tr>\n",
       "        <tr>\n",
       "            <td>Tamil</td>\n",
       "        </tr>\n",
       "        <tr>\n",
       "            <td>Thai</td>\n",
       "        </tr>\n",
       "        <tr>\n",
       "            <td>Tho</td>\n",
       "        </tr>\n",
       "        <tr>\n",
       "            <td>Tšam</td>\n",
       "        </tr>\n",
       "        <tr>\n",
       "            <td>Vietnamese</td>\n",
       "        </tr>\n",
       "        <tr>\n",
       "            <td>Waray-waray</td>\n",
       "        </tr>\n",
       "    </tbody>\n",
       "</table>"
      ],
      "text/plain": [
       "[('Bali',),\n",
       " ('Banja',),\n",
       " ('Batakki',),\n",
       " ('Bicol',),\n",
       " ('Bugi',),\n",
       " ('Burmese',),\n",
       " ('Cebuano',),\n",
       " ('Chin',),\n",
       " ('Chinese',),\n",
       " ('Dusun',),\n",
       " ('English',),\n",
       " ('Hiligaynon',),\n",
       " ('Iban',),\n",
       " ('Ilocano',),\n",
       " ('Javanese',),\n",
       " ('Kachin',),\n",
       " ('Karen',),\n",
       " ('Kayah',),\n",
       " ('Khmer',),\n",
       " ('Kuy',),\n",
       " ('Lao',),\n",
       " ('Lao-Soung',),\n",
       " ('Madura',),\n",
       " ('Maguindanao',),\n",
       " ('Malay',),\n",
       " ('Malay-English',),\n",
       " ('Man',),\n",
       " ('Maranao',),\n",
       " ('Miao',),\n",
       " ('Minangkabau',),\n",
       " ('Mon',),\n",
       " ('Mon-khmer',),\n",
       " ('Muong',),\n",
       " ('Nung',),\n",
       " ('Pampango',),\n",
       " ('Pangasinan',),\n",
       " ('Pilipino',),\n",
       " ('Portuguese',),\n",
       " ('Rakhine',),\n",
       " ('Shan',),\n",
       " ('Sunda',),\n",
       " ('Tamil',),\n",
       " ('Thai',),\n",
       " ('Tho',),\n",
       " ('Tšam',),\n",
       " ('Vietnamese',),\n",
       " ('Waray-waray',)]"
      ]
     },
     "execution_count": 13,
     "metadata": {},
     "output_type": "execute_result"
    }
   ],
   "source": [
    "%%sql\n",
    "\n",
    "SELECT DISTINCT Language \n",
    "FROM countrylanguage \n",
    "INNER JOIN country ON country.Code = countrylanguage.CountryCode \n",
    "WHERE country.Region = \"Southeast Asia\" \n",
    "ORDER BY countrylanguage.Language;"
   ]
  },
  {
   "cell_type": "markdown",
   "id": "e78c356c",
   "metadata": {},
   "source": [
    "#### 5 - Identify the 5 most spoken languages by number of countries."
   ]
  },
  {
   "cell_type": "code",
   "execution_count": 14,
   "id": "440a8113",
   "metadata": {},
   "outputs": [
    {
     "name": "stdout",
     "output_type": "stream",
     "text": [
      " * mysql+mysqlconnector://root:***@db\n",
      "5 rows affected.\n"
     ]
    },
    {
     "data": {
      "text/html": [
       "<table>\n",
       "    <thead>\n",
       "        <tr>\n",
       "            <th>Language</th>\n",
       "            <th>No_Countries</th>\n",
       "        </tr>\n",
       "    </thead>\n",
       "    <tbody>\n",
       "        <tr>\n",
       "            <td>English</td>\n",
       "            <td>60</td>\n",
       "        </tr>\n",
       "        <tr>\n",
       "            <td>Arabic</td>\n",
       "            <td>33</td>\n",
       "        </tr>\n",
       "        <tr>\n",
       "            <td>Spanish</td>\n",
       "            <td>28</td>\n",
       "        </tr>\n",
       "        <tr>\n",
       "            <td>French</td>\n",
       "            <td>25</td>\n",
       "        </tr>\n",
       "        <tr>\n",
       "            <td>German</td>\n",
       "            <td>19</td>\n",
       "        </tr>\n",
       "    </tbody>\n",
       "</table>"
      ],
      "text/plain": [
       "[('English', 60),\n",
       " ('Arabic', 33),\n",
       " ('Spanish', 28),\n",
       " ('French', 25),\n",
       " ('German', 19)]"
      ]
     },
     "execution_count": 14,
     "metadata": {},
     "output_type": "execute_result"
    }
   ],
   "source": [
    "%%sql\n",
    "\n",
    "SELECT Language, COUNT(countrylanguage.CountryCode) AS No_Countries \n",
    "FROM countrylanguage \n",
    "GROUP BY countrylanguage.Language \n",
    "ORDER BY COUNT(countrylanguage.CountryCode) DESC \n",
    "LIMIT 5;"
   ]
  },
  {
   "cell_type": "markdown",
   "id": "0c6bd462",
   "metadata": {},
   "source": [
    "#### 6 - What is the total population of the cities in the Caribbean region?"
   ]
  },
  {
   "cell_type": "code",
   "execution_count": 15,
   "id": "089809c3",
   "metadata": {
    "scrolled": true
   },
   "outputs": [
    {
     "name": "stdout",
     "output_type": "stream",
     "text": [
      " * mysql+mysqlconnector://root:***@db\n",
      "1 rows affected.\n"
     ]
    },
    {
     "data": {
      "text/html": [
       "<table>\n",
       "    <thead>\n",
       "        <tr>\n",
       "            <th>Tot_Population</th>\n",
       "        </tr>\n",
       "    </thead>\n",
       "    <tbody>\n",
       "        <tr>\n",
       "            <td>11067550</td>\n",
       "        </tr>\n",
       "    </tbody>\n",
       "</table>"
      ],
      "text/plain": [
       "[(Decimal('11067550'),)]"
      ]
     },
     "execution_count": 15,
     "metadata": {},
     "output_type": "execute_result"
    }
   ],
   "source": [
    "%%sql\n",
    "\n",
    "SELECT SUM(city.Population) AS Tot_Population \n",
    "FROM city  LEFT JOIN country ON city.CountryCode = country.Code \n",
    "WHERE country.Region = \"Caribbean\";"
   ]
  },
  {
   "cell_type": "markdown",
   "id": "88ca7683",
   "metadata": {},
   "source": [
    "#### 7 - Which Countries have a City named \"Kingston\"?"
   ]
  },
  {
   "cell_type": "code",
   "execution_count": 16,
   "id": "7886edc0",
   "metadata": {},
   "outputs": [
    {
     "name": "stdout",
     "output_type": "stream",
     "text": [
      " * mysql+mysqlconnector://root:***@db\n",
      "2 rows affected.\n"
     ]
    },
    {
     "data": {
      "text/html": [
       "<table>\n",
       "    <thead>\n",
       "        <tr>\n",
       "            <th>Country_Name</th>\n",
       "        </tr>\n",
       "    </thead>\n",
       "    <tbody>\n",
       "        <tr>\n",
       "            <td>Jamaica</td>\n",
       "        </tr>\n",
       "        <tr>\n",
       "            <td>Norfolk Island</td>\n",
       "        </tr>\n",
       "    </tbody>\n",
       "</table>"
      ],
      "text/plain": [
       "[('Jamaica',), ('Norfolk Island',)]"
      ]
     },
     "execution_count": 16,
     "metadata": {},
     "output_type": "execute_result"
    }
   ],
   "source": [
    "%%sql\n",
    "\n",
    "SELECT country.Name AS Country_Name\n",
    "FROM country RIGHT JOIN city ON country.Code = city.CountryCode \n",
    "WHERE city.Name = \"Kingston\";"
   ]
  },
  {
   "cell_type": "markdown",
   "id": "51b4dbf2",
   "metadata": {},
   "source": [
    "#### 8 - Plot the population density by country, limiting to the 25 with the least density."
   ]
  },
  {
   "cell_type": "markdown",
   "id": "49e25490",
   "metadata": {},
   "source": [
    "The population density is the total `Population` of a country divided by the `SurfaceArea`.\n",
    "We can compute this quantity on the fly during a `SELECT` statement and rename it with an `ALIAS` for convenience."
   ]
  },
  {
   "cell_type": "code",
   "execution_count": 20,
   "id": "381466c5",
   "metadata": {
    "scrolled": true
   },
   "outputs": [
    {
     "name": "stdout",
     "output_type": "stream",
     "text": [
      " * mysql+mysqlconnector://root:***@db\n",
      "25 rows affected.\n"
     ]
    },
    {
     "data": {
      "image/png": "[encoded data removed]",
      "text/plain": [
       "<Figure size 1600x300 with 1 Axes>"
      ]
     },
     "metadata": {},
     "output_type": "display_data"
    }
   ],
   "source": [
    "res_ = %sql SELECT Name, Population/SurfaceArea AS Pop_Density FROM country ORDER BY Pop_Density DESC LIMIT 25;\n",
    "\n",
    "#print(res_)\n",
    "\n",
    "plt.figure(figsize=(16,3))\n",
    "res_.bar();\n",
    "plt.xticks(rotation='vertical');"
   ]
  },
  {
   "cell_type": "markdown",
   "id": "03f10978",
   "metadata": {},
   "source": [
    "#### 9 - Plot the GNP (Gross Nation Product) of all countries that become independent between 1850 and 1910, limiting to the 10 with the highest GNP"
   ]
  },
  {
   "cell_type": "markdown",
   "id": "87da9759",
   "metadata": {},
   "source": [
    "We can use `BETWEEN a AND b` to select only those entries between two extremes;"
   ]
  },
  {
   "cell_type": "code",
   "execution_count": 21,
   "id": "b317b801",
   "metadata": {},
   "outputs": [
    {
     "name": "stdout",
     "output_type": "stream",
     "text": [
      " * mysql+mysqlconnector://root:***@db\n",
      "10 rows affected.\n",
      "+--------------+------------+\n",
      "|     Name     |    GNP     |\n",
      "+--------------+------------+\n",
      "|    Italy     | 1161755.00 |\n",
      "|    Canada    | 598862.00  |\n",
      "|  Australia   | 351182.00  |\n",
      "|     Iran     | 195746.00  |\n",
      "|    Norway    | 145895.00  |\n",
      "| South Africa | 116729.00  |\n",
      "| New Zealand  |  54669.00  |\n",
      "|   Romania    |  38158.00  |\n",
      "|     Cuba     |  17843.00  |\n",
      "|  Luxembourg  |  16321.00  |\n",
      "+--------------+------------+\n"
     ]
    },
    {
     "data": {
      "image/png": "[encoded data removed]",
      "text/plain": [
       "<Figure size 1600x300 with 1 Axes>"
      ]
     },
     "metadata": {},
     "output_type": "display_data"
    }
   ],
   "source": [
    "res_ = %sql SELECT Name, GNP FROM country WHERE IndepYear BETWEEN 1850 AND 1910 ORDER BY GNP DESC LIMIT 10;\n",
    "\n",
    "print(res_)\n",
    "\n",
    "plt.figure(figsize=(16,3))\n",
    "res_.bar();\n",
    "plt.xticks(rotation='vertical');"
   ]
  },
  {
   "cell_type": "markdown",
   "id": "ca8c72b6",
   "metadata": {},
   "source": [
    "#### 10 - Create a scatter plot of the life expectancy vs the GNP of all countries that have Spanish as their Official language"
   ]
  },
  {
   "cell_type": "code",
   "execution_count": 23,
   "id": "286438c5",
   "metadata": {},
   "outputs": [
    {
     "name": "stdout",
     "output_type": "stream",
     "text": [
      " * mysql+mysqlconnector://root:***@db\n",
      "20 rows affected.\n",
      "+----------------+-----------+--------------------+\n",
      "| LifeExpectancy |    GNP    |        Name        |\n",
      "+----------------+-----------+--------------------+\n",
      "|      75.1      | 340238.00 |     Argentina      |\n",
      "|      63.7      |  8571.00  |      Bolivia       |\n",
      "|      75.7      |  72949.00 |       Chile        |\n",
      "|      70.3      | 102896.00 |      Colombia      |\n",
      "|      75.8      |  10226.00 |     Costa Rica     |\n",
      "|      76.2      |  17843.00 |        Cuba        |\n",
      "|      73.2      |  15846.00 | Dominican Republic |\n",
      "|      71.1      |  19770.00 |      Ecuador       |\n",
      "|      78.8      | 553233.00 |       Spain        |\n",
      "|      66.2      |  19008.00 |     Guatemala      |\n",
      "|      69.9      |  5333.00  |      Honduras      |\n",
      "|      71.5      | 414972.00 |       Mexico       |\n",
      "|      68.7      |  1988.00  |     Nicaragua      |\n",
      "|      75.5      |  9131.00  |       Panama       |\n",
      "|      70.0      |  64140.00 |        Peru        |\n",
      "|      75.6      |  34100.00 |    Puerto Rico     |\n",
      "|      73.7      |  8444.00  |      Paraguay      |\n",
      "|      69.7      |  11863.00 |    El Salvador     |\n",
      "|      75.2      |  20831.00 |      Uruguay       |\n",
      "|      73.1      |  95023.00 |     Venezuela      |\n",
      "+----------------+-----------+--------------------+\n"
     ]
    },
    {
     "data": {
      "text/plain": [
       "Text(0.5, 0, 'LifeExpectancy')"
      ]
     },
     "execution_count": 23,
     "metadata": {},
     "output_type": "execute_result"
    },
    {
     "data": {
      "image/png": "[encoded data removed]",
      "text/plain": [
       "<Figure size 800x600 with 1 Axes>"
      ]
     },
     "metadata": {},
     "output_type": "display_data"
    }
   ],
   "source": [
    "res_ = %sql SELECT LifeExpectancy, GNP, Name FROM country RIGHT JOIN countrylanguage ON country.Code = countrylanguage.CountryCode WHERE Language=\"Spanish\" AND IsOfficial=1;\n",
    "\n",
    "print(res_)\n",
    "\n",
    "plt.figure(figsize=(8,6))\n",
    "for _ in res_:\n",
    "    plt.scatter(_[0],_[1],s=50);\n",
    "    plt.annotate(_[2], (float(_[0])*1.002,float(_[1])*1.002));\n",
    "plt.ylabel('GNP')\n",
    "plt.xlabel('LifeExpectancy')\n"
   ]
  },
  {
   "cell_type": "markdown",
   "id": "f65b5e6a",
   "metadata": {},
   "source": [
    "## 06 More on queries "
   ]
  },
  {
   "cell_type": "markdown",
   "id": "4d0da673",
   "metadata": {},
   "source": [
    "Let's import a well-structured database, with several tables and relationships, to be used as a sandbox for further exercises on queries.\n",
    "\n",
    "The database is freely available and is taken from the IMDb (Internet Movie Database) website (https://www.imdb.com/interfaces/), although severely slimmed down.\n",
    "\n",
    "This database contains several tables with information about movies, TV shows, people involved in the entertainment industry, and more, spanning from the 1890s to recent years.\n",
    "\n",
    "To simplify the execution of queries, we will work with a slimmed-down version of the entire database, with still plenty of records for us to extract interesting information.\n",
    "\n",
    "To start working with the IMDb database, we need to import it into our environment. The database `.sql` file should be downloaded from the link on Moodle and copied into the `/mysql/dbs` folder of the GitHub repository so that it will be found in the mounted volume at the location: `/mapd-workspace/dbs/IMDb_pruned.sql`."
   ]
  },
  {
   "cell_type": "markdown",
   "id": "03951f4a",
   "metadata": {},
   "source": [
    "1. Create a new DB named `IMDb`\n",
    "2. Import the content of the file `/mapd-workspace/dbs/IMDb_pruned.sql` into the newly created DB\n",
    "(this might take a minute or two...)"
   ]
  },
  {
   "cell_type": "code",
   "execution_count": 5,
   "id": "304f185f-be90-4db2-a444-c2e62c833fe1",
   "metadata": {},
   "outputs": [],
   "source": [
    "import matplotlib.pyplot as plt\n",
    "%matplotlib inline\n",
    "import numpy as np"
   ]
  },
  {
   "cell_type": "markdown",
   "id": "33480edc",
   "metadata": {},
   "source": [
    "### Check which tables are available"
   ]
  },
  {
   "cell_type": "code",
   "execution_count": 6,
   "id": "f57dc5e8",
   "metadata": {},
   "outputs": [
    {
     "name": "stdout",
     "output_type": "stream",
     "text": [
      " * mysql+mysqlconnector://root:***@db\n",
      "0 rows affected.\n",
      "7 rows affected.\n"
     ]
    },
    {
     "data": {
      "text/html": [
       "<table>\n",
       "    <thead>\n",
       "        <tr>\n",
       "            <th>Tables_in_imdb</th>\n",
       "        </tr>\n",
       "    </thead>\n",
       "    <tbody>\n",
       "        <tr>\n",
       "            <td>Directors</td>\n",
       "        </tr>\n",
       "        <tr>\n",
       "            <td>Episode_belongs_to</td>\n",
       "        </tr>\n",
       "        <tr>\n",
       "            <td>Had_role</td>\n",
       "        </tr>\n",
       "        <tr>\n",
       "            <td>Names_</td>\n",
       "        </tr>\n",
       "        <tr>\n",
       "            <td>Title_genres</td>\n",
       "        </tr>\n",
       "        <tr>\n",
       "            <td>Title_ratings</td>\n",
       "        </tr>\n",
       "        <tr>\n",
       "            <td>Titles</td>\n",
       "        </tr>\n",
       "    </tbody>\n",
       "</table>"
      ],
      "text/plain": [
       "[('Directors',),\n",
       " ('Episode_belongs_to',),\n",
       " ('Had_role',),\n",
       " ('Names_',),\n",
       " ('Title_genres',),\n",
       " ('Title_ratings',),\n",
       " ('Titles',)]"
      ]
     },
     "execution_count": 6,
     "metadata": {},
     "output_type": "execute_result"
    }
   ],
   "source": [
    "%%sql\n",
    "USE imdb;\n",
    "SHOW TABLES;"
   ]
  },
  {
   "cell_type": "markdown",
   "id": "3f1328fb",
   "metadata": {},
   "source": [
    "### Describe the content of table `Names_`"
   ]
  },
  {
   "cell_type": "code",
   "execution_count": null,
   "id": "14d1d93e",
   "metadata": {
    "scrolled": true
   },
   "outputs": [],
   "source": [
    "DESCRIBE Names_;"
   ]
  },
  {
   "cell_type": "markdown",
   "id": "f5c88b21",
   "metadata": {},
   "source": [
    "### Study the distribution of the year of birth of all people included in the database\n",
    "\n",
    "1. Start by limiting the query to 1000 entries\n",
    "    1. Draw a histogram of the year of birth\n",
    "    1. Draw a second histogram with the year of birth of the 1000 youngest people in the list"
   ]
  },
  {
   "cell_type": "code",
   "execution_count": 47,
   "id": "8a6c6d33",
   "metadata": {},
   "outputs": [
    {
     "name": "stdout",
     "output_type": "stream",
     "text": [
      " * mysql+mysqlconnector://root:***@db\n",
      "1000 rows affected.\n"
     ]
    }
   ],
   "source": [
    "# 1.A\n",
    "res_ = %sql SELECT birth_year FROM Names_ LIMIT 1000;\n",
    "\n",
    "\n",
    "#counts, bins = np.histogram(res_)\n",
    "#plt.hist(bins[:-1], bins, weights=counts)\n"
   ]
  },
  {
   "cell_type": "code",
   "execution_count": 53,
   "id": "b1474799-144b-49d0-a368-62587dc6ae7c",
   "metadata": {
    "scrolled": true
   },
   "outputs": [
    {
     "data": {
      "text/plain": [
       "([0,\n",
       "  1,\n",
       "  2,\n",
       "  3,\n",
       "  4,\n",
       "  5,\n",
       "  6,\n",
       "  7,\n",
       "  8,\n",
       "  9,\n",
       "  10,\n",
       "  11,\n",
       "  12,\n",
       "  13,\n",
       "  14,\n",
       "  15,\n",
       "  16,\n",
       "  17,\n",
       "  18,\n",
       "  19,\n",
       "  20,\n",
       "  21,\n",
       "  22,\n",
       "  23,\n",
       "  24,\n",
       "  25,\n",
       "  26,\n",
       "  27,\n",
       "  28,\n",
       "  29,\n",
       "  30,\n",
       "  31,\n",
       "  32,\n",
       "  33,\n",
       "  34,\n",
       "  35,\n",
       "  36,\n",
       "  37,\n",
       "  38,\n",
       "  39,\n",
       "  40,\n",
       "  41,\n",
       "  42,\n",
       "  43,\n",
       "  44,\n",
       "  45,\n",
       "  46,\n",
       "  47,\n",
       "  48,\n",
       "  49,\n",
       "  50,\n",
       "  51,\n",
       "  52,\n",
       "  53,\n",
       "  54,\n",
       "  55,\n",
       "  56,\n",
       "  57,\n",
       "  58,\n",
       "  59,\n",
       "  60,\n",
       "  61,\n",
       "  62,\n",
       "  63,\n",
       "  64,\n",
       "  65,\n",
       "  66,\n",
       "  67,\n",
       "  68,\n",
       "  69,\n",
       "  70,\n",
       "  71,\n",
       "  72,\n",
       "  73,\n",
       "  74,\n",
       "  75,\n",
       "  76,\n",
       "  77,\n",
       "  78,\n",
       "  79,\n",
       "  80],\n",
       " [Text(0, 0, '(1924,)'),\n",
       "  Text(1, 0, '(1934,)'),\n",
       "  Text(2, 0, '(1918,)'),\n",
       "  Text(3, 0, '(1922,)'),\n",
       "  Text(4, 0, '(1916,)'),\n",
       "  Text(5, 0, '(1925,)'),\n",
       "  Text(6, 0, '(1901,)'),\n",
       "  Text(7, 0, '(1920,)'),\n",
       "  Text(8, 0, '(1917,)'),\n",
       "  Text(9, 0, '(1904,)'),\n",
       "  Text(10, 0, '(1914,)'),\n",
       "  Text(11, 0, '(1954,)'),\n",
       "  Text(12, 0, '(1929,)'),\n",
       "  Text(13, 0, '(1907,)'),\n",
       "  Text(14, 0, '(1923,)'),\n",
       "  Text(15, 0, '(1953,)'),\n",
       "  Text(16, 0, '(1912,)'),\n",
       "  Text(17, 0, '(1928,)'),\n",
       "  Text(18, 0, '(1910,)'),\n",
       "  Text(19, 0, '(1913,)'),\n",
       "  Text(20, 0, '(1915,)'),\n",
       "  Text(21, 0, '(1921,)'),\n",
       "  Text(22, 0, '(1908,)'),\n",
       "  Text(23, 0, '(1932,)'),\n",
       "  Text(24, 0, '(1940,)'),\n",
       "  Text(25, 0, '(1965,)'),\n",
       "  Text(26, 0, '(1950,)'),\n",
       "  Text(27, 0, '(1930,)'),\n",
       "  Text(28, 0, '(1939,)'),\n",
       "  Text(29, 0, '(1963,)'),\n",
       "  Text(30, 0, '(1935,)'),\n",
       "  Text(31, 0, '(1968,)'),\n",
       "  Text(32, 0, '(1967,)'),\n",
       "  Text(33, 0, '(1969,)'),\n",
       "  Text(34, 0, '(1955,)'),\n",
       "  Text(35, 0, '(1952,)'),\n",
       "  Text(36, 0, '(1958,)'),\n",
       "  Text(37, 0, '(1974,)'),\n",
       "  Text(38, 0, '(1960,)'),\n",
       "  Text(39, 0, '(1945,)'),\n",
       "  Text(40, 0, '(1975,)'),\n",
       "  Text(41, 0, '(1959,)'),\n",
       "  Text(42, 0, '(1962,)'),\n",
       "  Text(43, 0, '(1964,)'),\n",
       "  Text(44, 0, '(1957,)'),\n",
       "  Text(45, 0, '(1973,)'),\n",
       "  Text(46, 0, '(1948,)'),\n",
       "  Text(47, 0, '(1961,)'),\n",
       "  Text(48, 0, '(1970,)'),\n",
       "  Text(49, 0, '(1966,)'),\n",
       "  Text(50, 0, '(1979,)'),\n",
       "  Text(51, 0, '(1956,)'),\n",
       "  Text(52, 0, '(1943,)'),\n",
       "  Text(53, 0, '(1972,)'),\n",
       "  Text(54, 0, '(1944,)'),\n",
       "  Text(55, 0, '(1942,)'),\n",
       "  Text(56, 0, '(1937,)'),\n",
       "  Text(57, 0, '(1949,)'),\n",
       "  Text(58, 0, '(1946,)'),\n",
       "  Text(59, 0, '(1947,)'),\n",
       "  Text(60, 0, '(1971,)'),\n",
       "  Text(61, 0, '(1981,)'),\n",
       "  Text(62, 0, '(1980,)'),\n",
       "  Text(63, 0, '(1976,)'),\n",
       "  Text(64, 0, '(1977,)'),\n",
       "  Text(65, 0, '(1951,)'),\n",
       "  Text(66, 0, '(1936,)'),\n",
       "  Text(67, 0, '(1941,)'),\n",
       "  Text(68, 0, '(1933,)'),\n",
       "  Text(69, 0, '(1982,)'),\n",
       "  Text(70, 0, '(1926,)'),\n",
       "  Text(71, 0, '(1931,)'),\n",
       "  Text(72, 0, '(1927,)'),\n",
       "  Text(73, 0, '(1938,)'),\n",
       "  Text(74, 0, '(1919,)'),\n",
       "  Text(75, 0, '(1906,)'),\n",
       "  Text(76, 0, '(1897,)'),\n",
       "  Text(77, 0, '(1909,)'),\n",
       "  Text(78, 0, '(1900,)'),\n",
       "  Text(79, 0, '(1903,)'),\n",
       "  Text(80, 0, '(1905,)')])"
      ]
     },
     "execution_count": 53,
     "metadata": {},
     "output_type": "execute_result"
    },
    {
     "data": {
      "image/png": "[encoded data removed]",
      "text/plain": [
       "<Figure size 640x480 with 1 Axes>"
      ]
     },
     "metadata": {},
     "output_type": "display_data"
    }
   ],
   "source": [
    "years = [str(year) for year in res_]\n",
    "plt.hist(years,)\n",
    "plt.title(\"Birth years histogram\")\n",
    "plt.xticks(rotation=\"vertical\")"
   ]
  },
  {
   "cell_type": "code",
   "execution_count": null,
   "id": "5e143183",
   "metadata": {},
   "outputs": [],
   "source": [
    "# 1.B\n",
    "res_ = %sql SELECT name_id, birth_year FROM Names_ ORDER BY birth_year DESC LIMIT 1000;\n"
   ]
  },
  {
   "cell_type": "markdown",
   "id": "4ddda65c",
   "metadata": {},
   "source": [
    "2. Extend the query to all records in the table\n",
    "    1. Check for outliers (inspect min and max)\n",
    "    2. If any outlier is found, limit the query to a reasonable range (say... at least people born after 1850)\n",
    "    3. Draw a new histogram with the year of birth\n",
    "    4. Compute the mean and standard deviation of the year of birth"
   ]
  },
  {
   "cell_type": "code",
   "execution_count": 58,
   "id": "9ef17977",
   "metadata": {},
   "outputs": [
    {
     "name": "stdout",
     "output_type": "stream",
     "text": [
      " * mysql+mysqlconnector://root:***@db\n",
      "1 rows affected.\n",
      " * mysql+mysqlconnector://root:***@db\n",
      "1 rows affected.\n",
      "Min:  +------------+\n",
      "| birth_year |\n",
      "+------------+\n",
      "|     13     |\n",
      "+------------+ , Max:  +------------+\n",
      "| birth_year |\n",
      "+------------+\n",
      "|    2021    |\n",
      "+------------+\n"
     ]
    }
   ],
   "source": [
    "# 2.A\n",
    "max = %sql SELECT birth_year FROM Names_ ORDER BY birth_year DESC LIMIT 1;\n",
    "min = %sql SELECT birth_year FROM Names_ ORDER BY birth_year ASC LIMIT 1;\n",
    "print(\"Min: \",min,\", Max: \",max)"
   ]
  },
  {
   "cell_type": "code",
   "execution_count": 68,
   "id": "8d03c66b",
   "metadata": {},
   "outputs": [
    {
     "name": "stdout",
     "output_type": "stream",
     "text": [
      " * mysql+mysqlconnector://root:***@db\n",
      "1000 rows affected.\n"
     ]
    }
   ],
   "source": [
    "# 2.B\n",
    "res_ = %sql SELECT birth_year FROM Names_ WHERE birth_year > 1850 LIMIT 1000;"
   ]
  },
  {
   "cell_type": "code",
   "execution_count": 63,
   "id": "0013b910",
   "metadata": {
    "scrolled": true
   },
   "outputs": [
    {
     "data": {
      "text/plain": [
       "([0,\n",
       "  1,\n",
       "  2,\n",
       "  3,\n",
       "  4,\n",
       "  5,\n",
       "  6,\n",
       "  7,\n",
       "  8,\n",
       "  9,\n",
       "  10,\n",
       "  11,\n",
       "  12,\n",
       "  13,\n",
       "  14,\n",
       "  15,\n",
       "  16,\n",
       "  17,\n",
       "  18,\n",
       "  19,\n",
       "  20,\n",
       "  21,\n",
       "  22,\n",
       "  23,\n",
       "  24,\n",
       "  25,\n",
       "  26,\n",
       "  27,\n",
       "  28,\n",
       "  29,\n",
       "  30,\n",
       "  31,\n",
       "  32,\n",
       "  33,\n",
       "  34,\n",
       "  35,\n",
       "  36,\n",
       "  37,\n",
       "  38,\n",
       "  39,\n",
       "  40,\n",
       "  41,\n",
       "  42,\n",
       "  43,\n",
       "  44,\n",
       "  45,\n",
       "  46,\n",
       "  47,\n",
       "  48,\n",
       "  49,\n",
       "  50,\n",
       "  51,\n",
       "  52,\n",
       "  53,\n",
       "  54,\n",
       "  55,\n",
       "  56,\n",
       "  57,\n",
       "  58,\n",
       "  59,\n",
       "  60,\n",
       "  61,\n",
       "  62,\n",
       "  63,\n",
       "  64,\n",
       "  65,\n",
       "  66,\n",
       "  67,\n",
       "  68,\n",
       "  69,\n",
       "  70,\n",
       "  71,\n",
       "  72,\n",
       "  73,\n",
       "  74,\n",
       "  75,\n",
       "  76,\n",
       "  77,\n",
       "  78,\n",
       "  79,\n",
       "  80],\n",
       " [Text(0, 0, '(1924,)'),\n",
       "  Text(1, 0, '(1934,)'),\n",
       "  Text(2, 0, '(1918,)'),\n",
       "  Text(3, 0, '(1922,)'),\n",
       "  Text(4, 0, '(1916,)'),\n",
       "  Text(5, 0, '(1925,)'),\n",
       "  Text(6, 0, '(1901,)'),\n",
       "  Text(7, 0, '(1920,)'),\n",
       "  Text(8, 0, '(1917,)'),\n",
       "  Text(9, 0, '(1904,)'),\n",
       "  Text(10, 0, '(1914,)'),\n",
       "  Text(11, 0, '(1954,)'),\n",
       "  Text(12, 0, '(1929,)'),\n",
       "  Text(13, 0, '(1907,)'),\n",
       "  Text(14, 0, '(1923,)'),\n",
       "  Text(15, 0, '(1953,)'),\n",
       "  Text(16, 0, '(1912,)'),\n",
       "  Text(17, 0, '(1928,)'),\n",
       "  Text(18, 0, '(1910,)'),\n",
       "  Text(19, 0, '(1913,)'),\n",
       "  Text(20, 0, '(1915,)'),\n",
       "  Text(21, 0, '(1921,)'),\n",
       "  Text(22, 0, '(1908,)'),\n",
       "  Text(23, 0, '(1932,)'),\n",
       "  Text(24, 0, '(1940,)'),\n",
       "  Text(25, 0, '(1965,)'),\n",
       "  Text(26, 0, '(1950,)'),\n",
       "  Text(27, 0, '(1930,)'),\n",
       "  Text(28, 0, '(1939,)'),\n",
       "  Text(29, 0, '(1963,)'),\n",
       "  Text(30, 0, '(1935,)'),\n",
       "  Text(31, 0, '(1968,)'),\n",
       "  Text(32, 0, '(1967,)'),\n",
       "  Text(33, 0, '(1969,)'),\n",
       "  Text(34, 0, '(1955,)'),\n",
       "  Text(35, 0, '(1952,)'),\n",
       "  Text(36, 0, '(1958,)'),\n",
       "  Text(37, 0, '(1974,)'),\n",
       "  Text(38, 0, '(1960,)'),\n",
       "  Text(39, 0, '(1945,)'),\n",
       "  Text(40, 0, '(1975,)'),\n",
       "  Text(41, 0, '(1959,)'),\n",
       "  Text(42, 0, '(1962,)'),\n",
       "  Text(43, 0, '(1964,)'),\n",
       "  Text(44, 0, '(1957,)'),\n",
       "  Text(45, 0, '(1973,)'),\n",
       "  Text(46, 0, '(1948,)'),\n",
       "  Text(47, 0, '(1961,)'),\n",
       "  Text(48, 0, '(1970,)'),\n",
       "  Text(49, 0, '(1966,)'),\n",
       "  Text(50, 0, '(1979,)'),\n",
       "  Text(51, 0, '(1956,)'),\n",
       "  Text(52, 0, '(1943,)'),\n",
       "  Text(53, 0, '(1972,)'),\n",
       "  Text(54, 0, '(1944,)'),\n",
       "  Text(55, 0, '(1942,)'),\n",
       "  Text(56, 0, '(1937,)'),\n",
       "  Text(57, 0, '(1949,)'),\n",
       "  Text(58, 0, '(1946,)'),\n",
       "  Text(59, 0, '(1947,)'),\n",
       "  Text(60, 0, '(1971,)'),\n",
       "  Text(61, 0, '(1981,)'),\n",
       "  Text(62, 0, '(1980,)'),\n",
       "  Text(63, 0, '(1976,)'),\n",
       "  Text(64, 0, '(1977,)'),\n",
       "  Text(65, 0, '(1951,)'),\n",
       "  Text(66, 0, '(1936,)'),\n",
       "  Text(67, 0, '(1941,)'),\n",
       "  Text(68, 0, '(1933,)'),\n",
       "  Text(69, 0, '(1982,)'),\n",
       "  Text(70, 0, '(1926,)'),\n",
       "  Text(71, 0, '(1931,)'),\n",
       "  Text(72, 0, '(1927,)'),\n",
       "  Text(73, 0, '(1938,)'),\n",
       "  Text(74, 0, '(1919,)'),\n",
       "  Text(75, 0, '(1906,)'),\n",
       "  Text(76, 0, '(1897,)'),\n",
       "  Text(77, 0, '(1909,)'),\n",
       "  Text(78, 0, '(1900,)'),\n",
       "  Text(79, 0, '(1903,)'),\n",
       "  Text(80, 0, '(1905,)')])"
      ]
     },
     "execution_count": 63,
     "metadata": {},
     "output_type": "execute_result"
    },
    {
     "data": {
      "image/png": "[encoded data removed]",
      "text/plain": [
       "<Figure size 3000x1000 with 1 Axes>"
      ]
     },
     "metadata": {},
     "output_type": "display_data"
    }
   ],
   "source": [
    "# 2.C\n",
    "years = [str(year) for year in res_]\n",
    "plt.figure(figsize=(30,10))\n",
    "_ = plt.hist(years,)\n",
    "plt.title(\"Birth years histogram\")\n",
    "plt.xticks(rotation=\"vertical\")"
   ]
  },
  {
   "cell_type": "code",
   "execution_count": 73,
   "id": "3381f58e",
   "metadata": {},
   "outputs": [
    {
     "name": "stdout",
     "output_type": "stream",
     "text": [
      " * mysql+mysqlconnector://root:***@db\n",
      "1 rows affected.\n"
     ]
    },
    {
     "data": {
      "text/html": [
       "<table>\n",
       "    <thead>\n",
       "        <tr>\n",
       "            <th>mean</th>\n",
       "            <th>std_dev</th>\n",
       "        </tr>\n",
       "    </thead>\n",
       "    <tbody>\n",
       "        <tr>\n",
       "            <td>1965.4513</td>\n",
       "            <td>19.99205313179966</td>\n",
       "        </tr>\n",
       "    </tbody>\n",
       "</table>"
      ],
      "text/plain": [
       "[(Decimal('1965.4513'), 19.99205313179966)]"
      ]
     },
     "execution_count": 73,
     "metadata": {},
     "output_type": "execute_result"
    }
   ],
   "source": [
    "# 2.D\n",
    "res_ = %sql SELECT AVG(birth_year) AS mean, STDDEV(birth_year) AS std_dev FROM Names_ WHERE birth_year > 1850 LIMIT 1000;\n",
    "\n",
    "res_"
   ]
  },
  {
   "cell_type": "markdown",
   "id": "3b00fe99",
   "metadata": {},
   "source": [
    "### Movie stats\n",
    "\n",
    "1. Plot the number of titles available in the database for each year over the past 25 years.\n",
    "2. List the names of all actors who have portrayed the character Spider-Man in movies, along with the corresponding movie titles.\n",
    "3. List and count the top 10 people who have appeared the most in movies directed by Wes Anderson."
   ]
  },
  {
   "cell_type": "markdown",
   "id": "892b2c35",
   "metadata": {},
   "source": [
    "#### 1 - Plot the number of titles available in the database for each year over the past 25 years."
   ]
  },
  {
   "cell_type": "code",
   "execution_count": 27,
   "id": "2ee4bcbd-3f83-45db-8568-cc908c2c7008",
   "metadata": {},
   "outputs": [
    {
     "name": "stdout",
     "output_type": "stream",
     "text": [
      " * mysql+mysqlconnector://root:***@db\n",
      "27 rows affected.\n"
     ]
    },
    {
     "data": {
      "text/plain": [
       "Text(0.5, 1.0, 'Years vs counts')"
      ]
     },
     "execution_count": 27,
     "metadata": {},
     "output_type": "execute_result"
    },
    {
     "data": {
      "image/png": "[encoded data removed]",
      "text/plain": [
       "<Figure size 640x480 with 1 Axes>"
      ]
     },
     "metadata": {},
     "output_type": "display_data"
    }
   ],
   "source": [
    "res_ = %sql SELECT COUNT(primary_title), start_year FROM Titles WHERE start_year >= 1998 AND start_year <= 2024 GROUP BY start_year LIMIT 1000;\n",
    "counts = [i[0] for i in res_]\n",
    "years = [i[1] for i in res_]\n",
    "#data = np.vstack((counts,years))\n",
    "\n",
    "plt.bar(years,counts,color=\"orange\")\n",
    "plt.xlabel(\"Years\")\n",
    "plt.ylabel(\"Number of movies\")\n",
    "plt.title(\"Years vs counts\")\n",
    "#res_.csv()"
   ]
  },
  {
   "cell_type": "markdown",
   "id": "5022d3c3",
   "metadata": {},
   "source": [
    "#### 2 - List the names of all actors who have portrayed the character Spider-Man in movies, along with the corresponding movie titles."
   ]
  },
  {
   "cell_type": "code",
   "execution_count": null,
   "id": "f0843aa5-a7ed-46d8-b435-cd82f274c339",
   "metadata": {},
   "outputs": [],
   "source": [
    "%%sql\n",
    "SELECT Names_.name_, Titles.primary_title, Titles.title_type, Titles.start_year\n",
    "FROM Had_role \n",
    "INNER JOIN Titles ON Had_role.title_id = Titles.title_id\n",
    "INNER JOIN Names_ ON Had_role.name_id = Names_.name_id\n",
    "WHERE (Had_role.role_ LIKE \"Spider-Man\") AND (Titles.title_type=\"movie\")\n",
    "ORDER BY Names_.name_, Titles.primary_title;"
   ]
  },
  {
   "cell_type": "markdown",
   "id": "db261245",
   "metadata": {},
   "source": [
    "#### 3 - List and count the top 10 people who have appeared the most in movies directed by Wes Anderson."
   ]
  },
  {
   "cell_type": "code",
   "execution_count": null,
   "id": "a45fa0f0-3db5-4bd1-8a56-78a6acb84527",
   "metadata": {},
   "outputs": [],
   "source": [
    "%%sql\n",
    "\n",
    "SELECT Names_.name_,COUNT(*)\n",
    "FROM Had_role\n",
    "INNER JOIN Names_ ON Had_role.name_id = Names_.name_id\n",
    "WHERE (Had_role.title_id IN (\n",
    "    SELECT Directors.title_id \n",
    "    FROM Directors\n",
    "    INNER JOIN Names_ ON Directors.name_id = Names_.name_id\n",
    "    WHERE (Names_.name_ LIKE \"Wes Anderson\" )\n",
    "    )\n",
    ")\n",
    "GROUP BY Names_.name_\n",
    "ORDER BY COUNT(*) DESC\n",
    "LIMIT 10;"
   ]
  },
  {
   "cell_type": "markdown",
   "id": "00c0c411",
   "metadata": {},
   "source": [
    "### Is IMDB only about movies? \n",
    "\n",
    "1. Check the number of different media types contained in the database\n",
    "2. Plot a histogram summarizing the number of titles per media type\n",
    "3. Find the name and rating of the oldest videogame stored in the database "
   ]
  },
  {
   "cell_type": "markdown",
   "id": "f963733e",
   "metadata": {},
   "source": [
    "#### 1 - Check the number of different media types contained in the database"
   ]
  },
  {
   "cell_type": "code",
   "execution_count": null,
   "id": "83904577-84e4-45e7-8af6-6bd6c41ffbd7",
   "metadata": {},
   "outputs": [],
   "source": [
    "SELECT DISTINCT title_type FROM Titles GROUP BY title_type;"
   ]
  },
  {
   "cell_type": "markdown",
   "id": "2ce1e02e",
   "metadata": {},
   "source": [
    "#### 2 - Plot a histogram summarizing the number of titles per media type"
   ]
  },
  {
   "cell_type": "code",
   "execution_count": null,
   "id": "4fe79957-446a-4eb7-af21-2045b04b3c62",
   "metadata": {},
   "outputs": [],
   "source": [
    "SELECT COUNT(primary_title) AS \"Number of titles\",title_type FROM Titles GROUP BY title_type;"
   ]
  },
  {
   "cell_type": "markdown",
   "id": "37952def",
   "metadata": {},
   "source": [
    "#### 3 - Find the name and rating of the oldest videogame stored in the database "
   ]
  },
  {
   "cell_type": "code",
   "execution_count": null,
   "id": "591e0dae-f18b-4a56-bcdd-49fcc7ab1d12",
   "metadata": {},
   "outputs": [],
   "source": [
    "SELECT MIN(start_year)\n",
    "FROM Titles \n",
    "INNER JOIN Title_ratings ON Titles.title_id=Title_ratings.title_id\n",
    "\n",
    "WHERE (title_type=\"videoGame\") AND (start_year NOT NULL);"
   ]
  },
  {
   "cell_type": "markdown",
   "id": "98158ec9-2fdf-4e1e-b868-02adcb51daef",
   "metadata": {},
   "source": [
    "### Identify interesting outliers \n",
    "\n",
    "1. List the names of all movies whose titles begin with \"The\" and have a runtime between 3 and 4 hours.\n",
    "2. What actor had the most roles as 'Self'?\n",
    "3. Identify what TV series had more than 1,000 episodes, and identify in what year it was aired the first- and last-episode"
   ]
  },
  {
   "cell_type": "markdown",
   "id": "80811ded",
   "metadata": {},
   "source": [
    "#### 1 - List the names of all movies whose titles begin with \"The\" and have a runtime between 3 and 4 hours."
   ]
  },
  {
   "cell_type": "code",
   "execution_count": null,
   "id": "a5e0867d-0d54-40a0-b5f9-cf540ec0c102",
   "metadata": {},
   "outputs": [],
   "source": [
    "SELECT primary_title AS Title, runtime_minutes/60 AS \"Runtime minutes\"\n",
    "FROM Titles \n",
    "WHERE (primary_title LIKE \"The%\") AND (3*60 < runtime_minutes) AND (4*60 > runtime_minutes) ORDER BY primary_title;"
   ]
  },
  {
   "cell_type": "markdown",
   "id": "b0b10f31",
   "metadata": {},
   "source": [
    "#### 2 - What actor had the most roles as 'Self'?"
   ]
  },
  {
   "cell_type": "code",
   "execution_count": null,
   "id": "ac3a3b7d-7fd4-4177-a103-8d6d1c249464",
   "metadata": {},
   "outputs": [],
   "source": [
    "SELECT COUNT(Names_.name_) AS \"No of times\",Names_.name_ AS \"Name\"\n",
    "FROM Had_role\n",
    "INNER JOIN Names_ ON Had_role.name_id = Names_.name_id\n",
    "WHERE Had_role.role_ = \"Self\"\n",
    "GROUP BY Names_.name_\n",
    "ORDER BY COUNT(Names_.name_) DESC\n",
    "LIMIT 1;\n"
   ]
  },
  {
   "cell_type": "markdown",
   "id": "0b55feae",
   "metadata": {},
   "source": [
    "#### 3 - Identify what TV series had more than 1,000 episodes, and identify in what year it was aired the first- and last-episode"
   ]
  },
  {
   "cell_type": "code",
   "execution_count": null,
   "id": "e9ba6d8d-acce-4f4e-8c69-3e78e6bfad3b",
   "metadata": {},
   "outputs": [],
   "source": [
    "CREATE VIEW TitleSeries AS\n",
    "SELECT * \n",
    "FROM Titles \n",
    "WHERE Titles.title_type IN (\"tvEpisode\",\"tvSeries\",\"tvMiniSeries\");\n",
    "\n",
    "CREATE VIEW MoreThan1KEpisodes AS\n",
    "SELECT parent_tv_show_title_id, COUNT(episode_title_id) AS nEpisodes \n",
    "FROM Episode_belongs_to\n",
    "GROUP BY parent_tv_show_title_id\n",
    "HAVING nEpisodes > 1000;\n",
    "\n",
    "SELECT * \n",
    "FROM MoreThan1KEpisodes\n",
    "INNER JOIN TitleSeries ON TitleSeries.title_id = MoreThan1KEpisodes.parent_tv_show_title_id\n",
    "ORDER BY nEpisodes DESC\n",
    "LIMIT 10;"
   ]
  },
  {
   "cell_type": "markdown",
   "id": "b82192a7",
   "metadata": {},
   "source": [
    "### It's all about the ratings \n",
    "\n",
    "1. Group all movies by decade and plot their overall rating distribution trend. Limit the query to the movies with at least 1000 ratings.\n",
    "2. Plot the average rating of each episode of \"Games of Thrones\". Group by season and compute the average and standard deviation for each season\n",
    "3. Plot the total number of movies produced per year, divided by genre (Action, Comedy, Drama, Thriller, Fantasy), and the yearly rating average per genre"
   ]
  },
  {
   "cell_type": "markdown",
   "id": "0ab22008-1abc-4a64-8e82-77d55865f326",
   "metadata": {},
   "source": [
    "#### 1 - Group all movies by decade and plot their overall rating distribution trend. Limit the query to the movies with at least 1000 ratings."
   ]
  },
  {
   "cell_type": "code",
   "execution_count": null,
   "id": "178100b9-f79f-4815-9412-91ffb6d45511",
   "metadata": {},
   "outputs": [],
   "source": []
  },
  {
   "cell_type": "markdown",
   "id": "dada1b9b",
   "metadata": {},
   "source": [
    "#### 2 - Plot the average rating of each episode of \"Games of Thrones\". Group by season and compute the average and standard deviation for each season."
   ]
  },
  {
   "cell_type": "code",
   "execution_count": null,
   "id": "afa8dd88-2e3b-431d-ba8f-34af92f475c6",
   "metadata": {},
   "outputs": [],
   "source": []
  },
  {
   "cell_type": "markdown",
   "id": "b9b7a15b",
   "metadata": {},
   "source": [
    "#### 3 - Plot the total number of movies produced per year, divided by genre (Action, Comedy, Drama, Thriller, Fantasy), and the yearly rating average per genre"
   ]
  },
  {
   "cell_type": "code",
   "execution_count": null,
   "id": "16ff8332",
   "metadata": {},
   "outputs": [],
   "source": []
  }
 ],
 "metadata": {
  "kernelspec": {
   "display_name": "Python 3 (ipykernel)",
   "language": "python",
   "name": "python3"
  },
  "language_info": {
   "codemirror_mode": {
    "name": "ipython",
    "version": 3
   },
   "file_extension": ".py",
   "mimetype": "text/x-python",
   "name": "python",
   "nbconvert_exporter": "python",
   "pygments_lexer": "ipython3",
   "version": "3.10.7"
  }
 },
 "nbformat": 4,
 "nbformat_minor": 5
}
