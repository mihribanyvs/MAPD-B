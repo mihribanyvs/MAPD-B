{
 "cells": [
  {
   "cell_type": "markdown",
   "id": "a3fc3226-cf93-4251-905b-18b6720a4dd1",
   "metadata": {},
   "source": [
    "# Lecture 3: Stream processing with Spark\n",
    "\n",
    "_Spark Structured Streaming_ is an extension of the Spark API that enables scalable stream processing.\n",
    "\n",
    "It's a well-documented API [link](https://spark.apache.org/docs/3.5.0/structured-streaming-programming-guide.html), which is however different from Spark Streaming, which has recently become deprecated since Spark version 3.4.0 (~last year)\n",
    "\n",
    "The main difference between Spark `Streaming` and `Structured Streaming` is that the former is based on the low-level RDD API, while the latter is based on DataFrames.\n",
    "\n",
    "Both APIs have however been designed to help with the continuous processing of streaming applications. \n",
    "\n",
    "The continuous stream of input data can be ingested from many data sources such as **Kafka**, **Amazon S3**, or **TCP sockets**. \n",
    "\n",
    "Processed data can be exported to an external database and used to make live dashboards or offline analyses, stored in files, or used in a further stage of a Kafka pipeline. \n",
    "\n",
    "Overall, the practice of reading data from a set of sources, pre-processing it, and then storing it in a different format for later analysis is extremely common and has its own name: **real-time ETL pipelines**.\n",
    "- **E**xtract\n",
    "- **T**ransform\n",
    "- **L**oad\n"
   ]
  },
  {
   "cell_type": "markdown",
   "id": "44c2d05b-82b9-498d-99d9-17e263c58636",
   "metadata": {},
   "source": [
    "## Structured Streaming\n",
    "\n",
    "The key idea of this stream processing model is to treat the continuous stream as a table that is continuously appended to.\n",
    "\n",
    "This allows users to view the continuously incoming data as a DataFrame with new records being new rows to be included. It further expresses stream processing as a standard batch-like query on a static table, similar to what we have done in the Spark DataFrame lecture.\n",
    "\n",
    "![](imgs/lecture3/structured-streaming-stream-as-a-table.png)\n",
    "\n",
    "Internally, the stream is divided into micro-batches produced by a \"trigger,\" which could represent any given condition (e.g., every 1 second):\n",
    "\n",
    "- The input stream is a table (DataFrame) or the new rows to be appended to the previous DataFrame.\n",
    "- Every operation/query will produce a result table (DataFrame).\n",
    "- When the output table is updated, it can be written somewhere thanks to an output module/type.\n",
    "\n",
    "![](imgs/lecture3/structured-streaming-model.png)\n",
    "\n",
    "**NB:** Although the input table can be viewed as an always-growing DataFrame, **Spark does not actually materialize the entire table**. \n",
    "\n",
    "- Only the latest data are processed (latest batch) and then discarded.\n",
    "- Conversely, the result table can be updated to keep track of the results from previous batches.\n",
    "\n",
    "There are three output modes:\n",
    "\n",
    "- ***Complete Mode*** where the entire output table is written to the Sink.\n",
    "- ***Append Mode*** where only the new rows appended in the Result Table since the last trigger will be processed by the Sink.\n",
    "- ***Update Mode*** where only the rows that were updated in the result table since the last trigger will be written to the Sink.\n",
    "\n",
    "In this notebook, the *Update Mode* and *Console* output sink will be used.\n",
    "\n",
    "- Results (i.e., only the updated records) will be displayed on the screen (i.e., on the \"terminal\").\n",
    "- However, the Sink could be a database, a file, Kafka, or more, depending on the needs and applications.\n"
   ]
  },
  {
   "cell_type": "markdown",
   "id": "2964c9a4-9552-4420-87b6-bcdaf29f03c1",
   "metadata": {},
   "source": [
    "## Create and Start a Spark Session"
   ]
  },
  {
   "cell_type": "code",
   "execution_count": 1,
   "id": "7ce1d0bc-fea9-4d3d-bc81-f3914db66161",
   "metadata": {},
   "outputs": [
    {
     "name": "stderr",
     "output_type": "stream",
     "text": [
      "Setting default log level to \"WARN\".\n",
      "To adjust logging level use sc.setLogLevel(newLevel). For SparkR, use setLogLevel(newLevel).\n",
      "24/04/08 13:57:11 WARN NativeCodeLoader: Unable to load native-hadoop library for your platform... using builtin-java classes where applicable\n"
     ]
    }
   ],
   "source": [
    "# import the python libraries to create/connect to a Spark Session\n",
    "from pyspark.sql import SparkSession\n",
    "\n",
    "# build a SparkSession \n",
    "#   connect to the master node on the port where the master node is listening (7077)\n",
    "#   declare the app name \n",
    "#   configure the executor memory to 512 MB\n",
    "#   either *connect* or *create* a new Spark Context\n",
    "spark = SparkSession.builder \\\n",
    "    .master(\"spark://spark-master:7077\")\\\n",
    "    .appName(\"My streaming spark application\")\\\n",
    "    .config(\"spark.executor.memory\", \"512m\")\\\n",
    "    .config(\"spark.sql.execution.arrow.pyspark.enabled\", \"true\")\\\n",
    "    .config(\"spark.sql.execution.arrow.pyspark.fallback.enabled\", \"false\")\\\n",
    "    .config(\"spark.sql.streaming.forceDeleteTempCheckpointLocation\", \"true\")\\\n",
    "    .config(\"spark.sql.adaptive.enabled\", \"false\")\\\n",
    "    .getOrCreate()"
   ]
  },
  {
   "cell_type": "code",
   "execution_count": 2,
   "id": "95af68f7-d201-480f-97f6-76cec4be859e",
   "metadata": {},
   "outputs": [
    {
     "data": {
      "text/html": [
       "\n",
       "            <div>\n",
       "                <p><b>SparkSession - in-memory</b></p>\n",
       "                \n",
       "        <div>\n",
       "            <p><b>SparkContext</b></p>\n",
       "\n",
       "            <p><a href=\"http://8958b874b14a:4040\">Spark UI</a></p>\n",
       "\n",
       "            <dl>\n",
       "              <dt>Version</dt>\n",
       "                <dd><code>v3.5.1</code></dd>\n",
       "              <dt>Master</dt>\n",
       "                <dd><code>spark://spark-master:7077</code></dd>\n",
       "              <dt>AppName</dt>\n",
       "                <dd><code>My streaming spark application</code></dd>\n",
       "            </dl>\n",
       "        </div>\n",
       "        \n",
       "            </div>\n",
       "        "
      ],
      "text/plain": [
       "<pyspark.sql.session.SparkSession at 0x7dbf7014a010>"
      ]
     },
     "execution_count": 2,
     "metadata": {},
     "output_type": "execute_result"
    }
   ],
   "source": [
    "spark"
   ]
  },
  {
   "cell_type": "markdown",
   "id": "6a18ca8c-aeb0-4ff4-af13-5e98edec670f",
   "metadata": {},
   "source": [
    "### TCP Socket Source\n",
    "\n",
    "For this example, Spark will read data from a TCP socket using Spark Structured Streaming.\n",
    "\n",
    "A TCP socket is a communication endpoint used to establish a connection between two devices over a network. You can think of it as a telephone connection: two endpoints have to establish a connection; once the connection is established, communication can occur, with data transfer; as soon as one of the two ends interrupts the connection, the whole communication is lost. \n",
    "\n",
    "We will generate a dummy data stream representing fake credit card transactions.\n",
    "\n",
    "A simple Python program will be used to create this data stream. You will be able to find it in `utils/producer.py`. When executed, the producer will try to establish a TCP connection and send data on port `5555` of a given `host` (`spark-master` in our case). \n",
    "\n",
    "Before executing the producer program, take a moment to review the `producer.py` code to understand how it works. It's important to understand the logic of the program before using it to generate the streaming data.\n"
   ]
  },
  {
   "cell_type": "code",
   "execution_count": 3,
   "id": "2fe1d3ad-83d3-498e-a083-5a9674922f54",
   "metadata": {},
   "outputs": [
    {
     "name": "stdout",
     "output_type": "stream",
     "text": [
      "import socket\n",
      "import json\n",
      "import time\n",
      "import random\n",
      "import argparse\n",
      "\n",
      "# Define some lists of first and last names to use for generating random messages\n",
      "first_names=('John','Andy','Joe','Alice','Jill')\n",
      "last_names=('Johnson','Smith','Jones', 'Millers','Darby')\n",
      "\n",
      "# Define a function for sending messages over the socket\n",
      "def send_messages(client_socket):\n",
      "    try:\n",
      "        while 1:\n",
      "            # Generate a random message with a random name, surname, amount, delta_t, and flag\n",
      "            msg = {\n",
      "                'name': random.choice(first_names),\n",
      "                'surname': random.choice(last_names),\n",
      "                'amount': float('{:.2f}'.format(random.random()*1000)),\n",
      "                'delta_t': float('{:.2f}'.format(random.random()*10)),\n",
      "                'flag': int(random.choices([0,1], weights=[0.8, 0.2])[0])\n",
      "            }\n",
      "            try:\n",
      "              # Encode the message as JSON and send it over the socket\n",
      "              client_socket.send((json.dumps(msg)+\"\\n\").encode('utf-8'))\n",
      "              # Sleep for a short amount of time to avoid overwhelming the network\n",
      "              time.sleep(0.2)\n",
      "            except socket.error:\n",
      "              exit() \n",
      "\n",
      "    except KeyboardInterrupt:\n",
      "        # If the user presses Ctrl+C, exit gracefully\n",
      "        exit()\n",
      "\n",
      "if __name__ == \"__main__\":\n",
      "\n",
      "    # Parse command-line arguments to determine the hostname to use\n",
      "    parser = argparse.ArgumentParser()\n",
      "    parser.add_argument('--hostname', type=str, required=True)\n",
      "    args = parser.parse_args()\n",
      "    print('Using hostname:', args.hostname)\n",
      "\n",
      "    # Create a new socket and bind it to the specified hostname and port\n",
      "    new_skt = socket.socket()\n",
      "    host = args.hostname\n",
      "    port = 5555 \n",
      "    new_skt.bind((host, port))\n",
      "    print(\"Now listening on port: %s\" % str(port))\n",
      "\n",
      "    # Wait for a client to connect to the socket\n",
      "    new_skt.listen(5) #  waiting for client connection.\n",
      "    c, addr = new_skt.accept()\n",
      "    print(\"Received request from: \" + str(addr))\n",
      "    # connection established, send messaged\n",
      "    send_messages(c)\n"
     ]
    }
   ],
   "source": [
    "! cat utils/producer.py"
   ]
  },
  {
   "cell_type": "markdown",
   "id": "3d606a75-c9ae-490c-a8f6-b264aa19e667",
   "metadata": {},
   "source": [
    "The producer will generate new records in the form of a random combination of:\n",
    "- `name`\n",
    "- `surname`\n",
    "- `amount`: amount of the credit card transaction\n",
    "- `delta_t`: time between transactions\n",
    "- `flag`: random flag to indicate if potentially fraudulent or not\n",
    "\n",
    "This information will be formatted into a `.json` data format"
   ]
  },
  {
   "cell_type": "markdown",
   "id": "e6c4829e-f168-4061-8e54-060e527e4224",
   "metadata": {},
   "source": [
    "### Creating the streaming DataFrame from a TCP socket source\n",
    "\n",
    "To inform Spark that the data source will be a TCP socket located at a specific `hostname` and `port`, we can use the options `host` and `port` methods.\n",
    "* When declaring this source a message appears, warning that the TCP source is only meant for testing purposes.\n",
    "\n",
    "Refer to the [documentation](https://spark.apache.org/docs/latest/api/python/reference/pyspark.ss/api/pyspark.sql.streaming.DataStreamReader.html) for additional available options.\n",
    "\n",
    "Notice that the syntax is equivalent to the one used for example to read a set of files from a disk.\n"
   ]
  },
  {
   "cell_type": "code",
   "execution_count": 4,
   "id": "639c7897-ee28-49b5-993d-a6b810dda907",
   "metadata": {},
   "outputs": [
    {
     "name": "stderr",
     "output_type": "stream",
     "text": [
      "24/04/08 14:07:10 WARN TextSocketSourceProvider: The socket source should not be used for production applications! It does not support recovery.\n"
     ]
    }
   ],
   "source": [
    "# the hostname and port number\n",
    "hostname = \"spark-master\"\n",
    "portnumber = 5555\n",
    "\n",
    "rawMessagesDf = (\n",
    "    spark\n",
    "    .readStream\n",
    "    .format(\"socket\")\n",
    "    .option(\"host\", hostname)\n",
    "    .option(\"port\", portnumber)\n",
    "    .load()\n",
    ")"
   ]
  },
  {
   "cell_type": "markdown",
   "id": "c940de14-ecac-4b8e-b91a-ae7da20a812f",
   "metadata": {},
   "source": [
    "### Start the python producer.py script\n",
    "\n",
    "From a terminal/WSL, connect to the `spark-master` Docker container using the command\n",
    "```bash\n",
    "docker exec -it spark-master bash\n",
    "``` \n",
    "\n",
    "From inside the docker container, move to the `/mapd-workspace` folder and execute the python script with the option `--hostname spark-master`:\n",
    "\n",
    "```bash\n",
    "python /mapd-workspace/notebooks/utils/producer.py --hostname spark-master\n",
    "```\n",
    "\n",
    "The producer application will be automatically closed when the streaming application terminates."
   ]
  },
  {
   "cell_type": "markdown",
   "id": "37ffcf8e-d85c-461e-ae10-42fd5dbb27bf",
   "metadata": {},
   "source": [
    "### Running the first streaming application\n",
    "\n",
    "The first streaming query will be a simple `show` of the DataFrame\n",
    "* No processing between `rawMessagesDf` and output sink (`writeStream`)\n",
    "\n",
    "Output mode is set to `update`, hence every new message received by the TCP source will be processed by the output sink.\n",
    "* Output format `console` indicates that the output will be displayed on the screen before being discarded\n",
    "\n",
    "The streaming query is triggered every 2 seconds\n",
    "* refer to the [documentation](https://spark.apache.org/docs/3.5.0/structured-streaming-programming-guide.html#streaming-table-apis) for additional trigger types."
   ]
  },
  {
   "cell_type": "code",
   "execution_count": 5,
   "id": "35f4d0da-c4f9-4ee1-91c2-e3abdd4129aa",
   "metadata": {},
   "outputs": [
    {
     "name": "stderr",
     "output_type": "stream",
     "text": [
      "24/04/08 14:09:20 WARN ResolveWriteToStream: Temporary checkpoint location created which is deleted normally when the query didn't fail: /tmp/temporary-34548789-0d0a-4d6e-96dc-dd63f24ca377. If it's required to delete it under any circumstances, please set spark.sql.streaming.forceDeleteTempCheckpointLocation to true. Important to know deleting temp checkpoint folder is best effort.\n",
      "                                                                                \r"
     ]
    },
    {
     "name": "stdout",
     "output_type": "stream",
     "text": [
      "-------------------------------------------\n",
      "Batch: 0\n",
      "-------------------------------------------\n",
      "+-----+\n",
      "|value|\n",
      "+-----+\n",
      "+-----+\n",
      "\n"
     ]
    },
    {
     "name": "stderr",
     "output_type": "stream",
     "text": [
      "24/04/08 14:09:24 WARN ProcessingTimeExecutor: Current batch is falling behind. The trigger interval is 2000 milliseconds, but spent 3764 milliseconds\n"
     ]
    },
    {
     "name": "stdout",
     "output_type": "stream",
     "text": [
      "-------------------------------------------\n",
      "Batch: 1\n",
      "-------------------------------------------\n",
      "+-------------------------------------------------------------------------------------+\n",
      "|value                                                                                |\n",
      "+-------------------------------------------------------------------------------------+\n",
      "|{\"name\": \"Alice\", \"surname\": \"Johnson\", \"amount\": 975.38, \"delta_t\": 0.12, \"flag\": 0}|\n",
      "|{\"name\": \"John\", \"surname\": \"Jones\", \"amount\": 559.37, \"delta_t\": 8.81, \"flag\": 1}   |\n",
      "|{\"name\": \"Alice\", \"surname\": \"Darby\", \"amount\": 948.03, \"delta_t\": 0.68, \"flag\": 0}  |\n",
      "|{\"name\": \"Andy\", \"surname\": \"Jones\", \"amount\": 428.83, \"delta_t\": 6.05, \"flag\": 0}   |\n",
      "|{\"name\": \"Alice\", \"surname\": \"Jones\", \"amount\": 814.96, \"delta_t\": 1.88, \"flag\": 0}  |\n",
      "|{\"name\": \"Andy\", \"surname\": \"Darby\", \"amount\": 588.99, \"delta_t\": 7.39, \"flag\": 0}   |\n",
      "|{\"name\": \"Alice\", \"surname\": \"Jones\", \"amount\": 871.28, \"delta_t\": 2.18, \"flag\": 0}  |\n",
      "|{\"name\": \"Joe\", \"surname\": \"Johnson\", \"amount\": 481.53, \"delta_t\": 1.59, \"flag\": 0}  |\n",
      "|{\"name\": \"Joe\", \"surname\": \"Darby\", \"amount\": 424.27, \"delta_t\": 6.55, \"flag\": 0}    |\n",
      "|{\"name\": \"Alice\", \"surname\": \"Jones\", \"amount\": 878.46, \"delta_t\": 0.26, \"flag\": 0}  |\n",
      "|{\"name\": \"John\", \"surname\": \"Jones\", \"amount\": 882.98, \"delta_t\": 1.43, \"flag\": 0}   |\n",
      "|{\"name\": \"Andy\", \"surname\": \"Darby\", \"amount\": 342.53, \"delta_t\": 5.47, \"flag\": 0}   |\n",
      "|{\"name\": \"Alice\", \"surname\": \"Millers\", \"amount\": 721.46, \"delta_t\": 1.17, \"flag\": 0}|\n",
      "|{\"name\": \"Joe\", \"surname\": \"Smith\", \"amount\": 671.47, \"delta_t\": 1.7, \"flag\": 0}     |\n",
      "|{\"name\": \"Alice\", \"surname\": \"Johnson\", \"amount\": 851.12, \"delta_t\": 7.44, \"flag\": 0}|\n",
      "|{\"name\": \"John\", \"surname\": \"Millers\", \"amount\": 510.92, \"delta_t\": 9.25, \"flag\": 0} |\n",
      "|{\"name\": \"Alice\", \"surname\": \"Smith\", \"amount\": 298.08, \"delta_t\": 0.15, \"flag\": 0}  |\n",
      "|{\"name\": \"Jill\", \"surname\": \"Johnson\", \"amount\": 580.68, \"delta_t\": 2.47, \"flag\": 0} |\n",
      "+-------------------------------------------------------------------------------------+\n",
      "\n"
     ]
    },
    {
     "name": "stderr",
     "output_type": "stream",
     "text": [
      "24/04/08 14:09:27 WARN ProcessingTimeExecutor: Current batch is falling behind. The trigger interval is 2000 milliseconds, but spent 2512 milliseconds\n"
     ]
    },
    {
     "name": "stdout",
     "output_type": "stream",
     "text": [
      "-------------------------------------------\n",
      "Batch: 2\n",
      "-------------------------------------------\n",
      "+------------------------------------------------------------------------------------+\n",
      "|value                                                                               |\n",
      "+------------------------------------------------------------------------------------+\n",
      "|{\"name\": \"Alice\", \"surname\": \"Darby\", \"amount\": 719.57, \"delta_t\": 2.23, \"flag\": 0} |\n",
      "|{\"name\": \"Andy\", \"surname\": \"Jones\", \"amount\": 646.64, \"delta_t\": 9.68, \"flag\": 0}  |\n",
      "|{\"name\": \"Andy\", \"surname\": \"Millers\", \"amount\": 529.3, \"delta_t\": 1.23, \"flag\": 1} |\n",
      "|{\"name\": \"Jill\", \"surname\": \"Darby\", \"amount\": 971.99, \"delta_t\": 3.2, \"flag\": 1}   |\n",
      "|{\"name\": \"Jill\", \"surname\": \"Millers\", \"amount\": 497.09, \"delta_t\": 3.11, \"flag\": 0}|\n",
      "|{\"name\": \"Alice\", \"surname\": \"Jones\", \"amount\": 162.58, \"delta_t\": 3.24, \"flag\": 0} |\n",
      "|{\"name\": \"Joe\", \"surname\": \"Jones\", \"amount\": 748.83, \"delta_t\": 6.59, \"flag\": 0}   |\n",
      "|{\"name\": \"Andy\", \"surname\": \"Smith\", \"amount\": 954.57, \"delta_t\": 6.73, \"flag\": 0}  |\n",
      "|{\"name\": \"Alice\", \"surname\": \"Smith\", \"amount\": 916.08, \"delta_t\": 9.93, \"flag\": 1} |\n",
      "|{\"name\": \"Jill\", \"surname\": \"Darby\", \"amount\": 358.87, \"delta_t\": 4.59, \"flag\": 0}  |\n",
      "|{\"name\": \"Jill\", \"surname\": \"Millers\", \"amount\": 254.44, \"delta_t\": 3.38, \"flag\": 0}|\n",
      "|{\"name\": \"Joe\", \"surname\": \"Johnson\", \"amount\": 609.45, \"delta_t\": 0.19, \"flag\": 0} |\n",
      "+------------------------------------------------------------------------------------+\n",
      "\n",
      "-------------------------------------------\n",
      "Batch: 3\n",
      "-------------------------------------------\n",
      "+-----------------------------------------------------------------------------------+\n",
      "|value                                                                              |\n",
      "+-----------------------------------------------------------------------------------+\n",
      "|{\"name\": \"Joe\", \"surname\": \"Darby\", \"amount\": 62.9, \"delta_t\": 1.53, \"flag\": 1}    |\n",
      "|{\"name\": \"Joe\", \"surname\": \"Johnson\", \"amount\": 517.35, \"delta_t\": 5.57, \"flag\": 0}|\n",
      "|{\"name\": \"John\", \"surname\": \"Smith\", \"amount\": 588.87, \"delta_t\": 6.7, \"flag\": 0}  |\n",
      "+-----------------------------------------------------------------------------------+\n",
      "\n",
      "-------------------------------------------\n",
      "Batch: 4\n",
      "-------------------------------------------\n",
      "+------------------------------------------------------------------------------------+\n",
      "|value                                                                               |\n",
      "+------------------------------------------------------------------------------------+\n",
      "|{\"name\": \"Jill\", \"surname\": \"Millers\", \"amount\": 271.17, \"delta_t\": 3.23, \"flag\": 0}|\n",
      "|{\"name\": \"John\", \"surname\": \"Millers\", \"amount\": 479.89, \"delta_t\": 4.03, \"flag\": 0}|\n",
      "|{\"name\": \"Jill\", \"surname\": \"Jones\", \"amount\": 499.63, \"delta_t\": 5.67, \"flag\": 1}  |\n",
      "|{\"name\": \"Jill\", \"surname\": \"Johnson\", \"amount\": 649.46, \"delta_t\": 1.19, \"flag\": 0}|\n",
      "|{\"name\": \"John\", \"surname\": \"Johnson\", \"amount\": 32.09, \"delta_t\": 9.89, \"flag\": 0} |\n",
      "|{\"name\": \"Andy\", \"surname\": \"Millers\", \"amount\": 693.94, \"delta_t\": 4.79, \"flag\": 0}|\n",
      "|{\"name\": \"Alice\", \"surname\": \"Darby\", \"amount\": 552.06, \"delta_t\": 1.82, \"flag\": 0} |\n",
      "|{\"name\": \"Jill\", \"surname\": \"Millers\", \"amount\": 268.27, \"delta_t\": 7.05, \"flag\": 1}|\n",
      "|{\"name\": \"Andy\", \"surname\": \"Millers\", \"amount\": 643.94, \"delta_t\": 3.27, \"flag\": 0}|\n",
      "|{\"name\": \"Jill\", \"surname\": \"Jones\", \"amount\": 602.2, \"delta_t\": 8.96, \"flag\": 0}   |\n",
      "+------------------------------------------------------------------------------------+\n",
      "\n",
      "-------------------------------------------\n",
      "Batch: 5\n",
      "-------------------------------------------\n",
      "+-------------------------------------------------------------------------------------+\n",
      "|value                                                                                |\n",
      "+-------------------------------------------------------------------------------------+\n",
      "|{\"name\": \"Alice\", \"surname\": \"Jones\", \"amount\": 668.65, \"delta_t\": 9.23, \"flag\": 0}  |\n",
      "|{\"name\": \"John\", \"surname\": \"Smith\", \"amount\": 461.55, \"delta_t\": 4.5, \"flag\": 1}    |\n",
      "|{\"name\": \"Alice\", \"surname\": \"Johnson\", \"amount\": 254.08, \"delta_t\": 8.53, \"flag\": 0}|\n",
      "|{\"name\": \"Joe\", \"surname\": \"Jones\", \"amount\": 322.51, \"delta_t\": 8.43, \"flag\": 0}    |\n",
      "|{\"name\": \"Alice\", \"surname\": \"Darby\", \"amount\": 799.45, \"delta_t\": 3.5, \"flag\": 0}   |\n",
      "|{\"name\": \"Jill\", \"surname\": \"Jones\", \"amount\": 936.19, \"delta_t\": 3.61, \"flag\": 0}   |\n",
      "|{\"name\": \"Alice\", \"surname\": \"Millers\", \"amount\": 54.63, \"delta_t\": 2.12, \"flag\": 0} |\n",
      "|{\"name\": \"Andy\", \"surname\": \"Jones\", \"amount\": 183.57, \"delta_t\": 3.59, \"flag\": 0}   |\n",
      "|{\"name\": \"Alice\", \"surname\": \"Millers\", \"amount\": 796.4, \"delta_t\": 1.79, \"flag\": 0} |\n",
      "|{\"name\": \"Andy\", \"surname\": \"Smith\", \"amount\": 486.78, \"delta_t\": 8.86, \"flag\": 0}   |\n",
      "+-------------------------------------------------------------------------------------+\n",
      "\n",
      "-------------------------------------------\n",
      "Batch: 6\n",
      "-------------------------------------------\n",
      "+------------------------------------------------------------------------------------+\n",
      "|value                                                                               |\n",
      "+------------------------------------------------------------------------------------+\n",
      "|{\"name\": \"Jill\", \"surname\": \"Millers\", \"amount\": 548.08, \"delta_t\": 2.79, \"flag\": 0}|\n",
      "|{\"name\": \"Alice\", \"surname\": \"Smith\", \"amount\": 514.66, \"delta_t\": 8.18, \"flag\": 1} |\n",
      "|{\"name\": \"John\", \"surname\": \"Millers\", \"amount\": 127.69, \"delta_t\": 3.38, \"flag\": 0}|\n",
      "|{\"name\": \"Jill\", \"surname\": \"Johnson\", \"amount\": 64.42, \"delta_t\": 3.81, \"flag\": 0} |\n",
      "|{\"name\": \"John\", \"surname\": \"Smith\", \"amount\": 172.0, \"delta_t\": 9.02, \"flag\": 0}   |\n",
      "|{\"name\": \"Alice\", \"surname\": \"Smith\", \"amount\": 370.76, \"delta_t\": 8.49, \"flag\": 0} |\n",
      "|{\"name\": \"Jill\", \"surname\": \"Darby\", \"amount\": 444.17, \"delta_t\": 7.15, \"flag\": 0}  |\n",
      "|{\"name\": \"Andy\", \"surname\": \"Jones\", \"amount\": 973.06, \"delta_t\": 0.48, \"flag\": 0}  |\n",
      "|{\"name\": \"John\", \"surname\": \"Darby\", \"amount\": 755.07, \"delta_t\": 2.23, \"flag\": 0}  |\n",
      "|{\"name\": \"John\", \"surname\": \"Millers\", \"amount\": 656.43, \"delta_t\": 7.55, \"flag\": 1}|\n",
      "+------------------------------------------------------------------------------------+\n",
      "\n",
      "-------------------------------------------\n",
      "Batch: 7\n",
      "-------------------------------------------\n",
      "+------------------------------------------------------------------------------------+\n",
      "|value                                                                               |\n",
      "+------------------------------------------------------------------------------------+\n",
      "|{\"name\": \"John\", \"surname\": \"Smith\", \"amount\": 635.73, \"delta_t\": 4.86, \"flag\": 0}  |\n",
      "|{\"name\": \"Joe\", \"surname\": \"Smith\", \"amount\": 379.65, \"delta_t\": 2.38, \"flag\": 0}   |\n",
      "|{\"name\": \"Joe\", \"surname\": \"Darby\", \"amount\": 37.09, \"delta_t\": 3.94, \"flag\": 0}    |\n",
      "|{\"name\": \"Joe\", \"surname\": \"Millers\", \"amount\": 10.79, \"delta_t\": 9.19, \"flag\": 1}  |\n",
      "|{\"name\": \"Alice\", \"surname\": \"Darby\", \"amount\": 953.93, \"delta_t\": 6.0, \"flag\": 0}  |\n",
      "|{\"name\": \"Joe\", \"surname\": \"Millers\", \"amount\": 731.88, \"delta_t\": 6.49, \"flag\": 0} |\n",
      "|{\"name\": \"John\", \"surname\": \"Johnson\", \"amount\": 459.51, \"delta_t\": 5.93, \"flag\": 0}|\n",
      "|{\"name\": \"Jill\", \"surname\": \"Jones\", \"amount\": 237.68, \"delta_t\": 5.11, \"flag\": 0}  |\n",
      "|{\"name\": \"Joe\", \"surname\": \"Jones\", \"amount\": 652.26, \"delta_t\": 3.95, \"flag\": 0}   |\n",
      "|{\"name\": \"Andy\", \"surname\": \"Jones\", \"amount\": 444.47, \"delta_t\": 6.1, \"flag\": 0}   |\n",
      "+------------------------------------------------------------------------------------+\n",
      "\n",
      "-------------------------------------------\n",
      "Batch: 8\n",
      "-------------------------------------------\n",
      "+------------------------------------------------------------------------------------+\n",
      "|value                                                                               |\n",
      "+------------------------------------------------------------------------------------+\n",
      "|{\"name\": \"Jill\", \"surname\": \"Jones\", \"amount\": 785.62, \"delta_t\": 3.5, \"flag\": 0}   |\n",
      "|{\"name\": \"Jill\", \"surname\": \"Smith\", \"amount\": 991.63, \"delta_t\": 6.23, \"flag\": 0}  |\n",
      "|{\"name\": \"John\", \"surname\": \"Darby\", \"amount\": 239.91, \"delta_t\": 3.51, \"flag\": 0}  |\n",
      "|{\"name\": \"John\", \"surname\": \"Johnson\", \"amount\": 386.0, \"delta_t\": 5.73, \"flag\": 0} |\n",
      "|{\"name\": \"John\", \"surname\": \"Jones\", \"amount\": 794.23, \"delta_t\": 3.8, \"flag\": 0}   |\n",
      "|{\"name\": \"Joe\", \"surname\": \"Jones\", \"amount\": 498.37, \"delta_t\": 9.05, \"flag\": 0}   |\n",
      "|{\"name\": \"Andy\", \"surname\": \"Millers\", \"amount\": 260.55, \"delta_t\": 9.69, \"flag\": 1}|\n",
      "|{\"name\": \"Andy\", \"surname\": \"Millers\", \"amount\": 623.01, \"delta_t\": 4.47, \"flag\": 0}|\n",
      "|{\"name\": \"Andy\", \"surname\": \"Darby\", \"amount\": 118.91, \"delta_t\": 6.37, \"flag\": 0}  |\n",
      "|{\"name\": \"John\", \"surname\": \"Darby\", \"amount\": 753.02, \"delta_t\": 8.96, \"flag\": 0}  |\n",
      "+------------------------------------------------------------------------------------+\n",
      "\n"
     ]
    }
   ],
   "source": [
    "query = (\n",
    "    rawMessagesDf\n",
    "    .writeStream\n",
    "    .outputMode(\"update\")\n",
    "    .format(\"console\")\n",
    "    .trigger(processingTime='2 seconds')\n",
    "    .option(\"truncate\", False)\n",
    "    .start()\n",
    ")"
   ]
  },
  {
   "cell_type": "markdown",
   "id": "c0cbbca9-2887-4ef2-a81f-4a1672ec2c5d",
   "metadata": {},
   "source": [
    "Run this cell to stop the streaming query execution"
   ]
  },
  {
   "cell_type": "code",
   "execution_count": 6,
   "id": "b0fd106d-9dbc-4911-b528-15389459baee",
   "metadata": {},
   "outputs": [],
   "source": [
    "query.stop()"
   ]
  },
  {
   "cell_type": "markdown",
   "id": "d467a2d9-bdaf-438c-818b-f12cf540f871",
   "metadata": {},
   "source": [
    "## Example of streaming query: data parsing\n",
    "\n",
    "Data received from the TCP source is seen as a `string` by the spark application\n",
    "\n",
    "We first must develop an application parsing the string and creating a column for each `json` field in order to start processing the dataset using the DataFrame API functionalities\n",
    "\n",
    "It can be useful to start with a set of test data, to develop this query.\n",
    "\n",
    "**The same Spark code (transformations/actions) used for processing a \"static\" DataFrame can be used for the streaming context!**"
   ]
  },
  {
   "cell_type": "code",
   "execution_count": 8,
   "id": "441dc43a-5632-4921-9011-e04720a1e3c8",
   "metadata": {},
   "outputs": [],
   "source": [
    "# dummy data for testing purposes\n",
    "testData = [\n",
    "    '{\"name\": \"Jill\", \"surname\": \"Millers\", \"amount\": 736.56, \"delta_t\": 7.78, \"flag\": 0}',\n",
    "    '{\"name\": \"John\", \"surname\": \"Johnson\", \"amount\": 986.47, \"delta_t\": 3.9, \"flag\": 0}',\n",
    "    '{\"name\": \"John\", \"surname\": \"Jones\", \"amount\": 249.9, \"delta_t\": 0.62, \"flag\": 1}',\n",
    "    '{\"name\": \"Andy\", \"surname\": \"Jones\", \"amount\": 950.95, \"delta_t\": 6.02, \"flag\": 0}',\n",
    "    '{\"name\": \"Jill\", \"surname\": \"Millers\", \"amount\": 724.32, \"delta_t\": 9.19, \"flag\": 0}',\n",
    "    '{\"name\": \"John\", \"surname\": \"Johnson\", \"amount\": 850.07, \"delta_t\": 7.33, \"flag\": 1}',\n",
    "    '{\"name\": \"Andy\", \"surname\": \"Smith\", \"amount\": 557.48, \"delta_t\": 9.64, \"flag\": 0}',\n",
    "    '{\"name\": \"Alice\", \"surname\": \"Darby\", \"amount\": 424.75, \"delta_t\": 7.76, \"flag\": 0}'\n",
    "]"
   ]
  },
  {
   "cell_type": "markdown",
   "id": "fe33e7b1-fa87-454a-9ad7-41dea82d8f21",
   "metadata": {},
   "source": [
    "Create a Spark DataFrame by importing the `testData`.\n",
    "\n",
    "It can be useful to investigate the `pyspark.sql.types` to check whether there is any helping function that could be used for this purpose."
   ]
  },
  {
   "cell_type": "code",
   "execution_count": 9,
   "id": "8c6935be-78f3-40a3-9fea-6f5a99f34570",
   "metadata": {},
   "outputs": [],
   "source": [
    "from pyspark.sql.types import StringType\n",
    "\n",
    "# create a spark dataframe from testdata\n",
    "testDf = spark.createDataFrame(testData, StringType())"
   ]
  },
  {
   "cell_type": "code",
   "execution_count": 10,
   "id": "b3f34563-f844-4b85-b4df-36609dbc49ad",
   "metadata": {},
   "outputs": [
    {
     "name": "stderr",
     "output_type": "stream",
     "text": [
      "[Stage 9:>                                                          (0 + 1) / 1]\r"
     ]
    },
    {
     "name": "stdout",
     "output_type": "stream",
     "text": [
      "+------------------------------------------------------------------------------------+\n",
      "|value                                                                               |\n",
      "+------------------------------------------------------------------------------------+\n",
      "|{\"name\": \"Jill\", \"surname\": \"Millers\", \"amount\": 736.56, \"delta_t\": 7.78, \"flag\": 0}|\n",
      "|{\"name\": \"John\", \"surname\": \"Johnson\", \"amount\": 986.47, \"delta_t\": 3.9, \"flag\": 0} |\n",
      "|{\"name\": \"John\", \"surname\": \"Jones\", \"amount\": 249.9, \"delta_t\": 0.62, \"flag\": 1}   |\n",
      "|{\"name\": \"Andy\", \"surname\": \"Jones\", \"amount\": 950.95, \"delta_t\": 6.02, \"flag\": 0}  |\n",
      "|{\"name\": \"Jill\", \"surname\": \"Millers\", \"amount\": 724.32, \"delta_t\": 9.19, \"flag\": 0}|\n",
      "+------------------------------------------------------------------------------------+\n",
      "only showing top 5 rows\n",
      "\n"
     ]
    },
    {
     "name": "stderr",
     "output_type": "stream",
     "text": [
      "                                                                                \r"
     ]
    }
   ],
   "source": [
    "# show the dataframe content\n",
    "testDf.show(n=5, truncate=False)"
   ]
  },
  {
   "cell_type": "markdown",
   "id": "42c77e8a-4160-4d34-818c-5adaf2143fa2",
   "metadata": {},
   "source": [
    "Data are now in the same format as the one received by the socket data source. \n",
    "\n",
    "The function `from_json` can be used to parse a `json` string with a given schema. Aa always, have a look at the [documentation](https://spark.apache.org/docs/3.5.0/api/python/reference/pyspark.sql/api/pyspark.sql.functions.from_json.html?highlight=from_json) before using it.\n",
    "\n",
    "Start by defining a schema for our data."
   ]
  },
  {
   "cell_type": "code",
   "execution_count": 11,
   "id": "d03f0616-6cc0-4930-b78b-5e80073b0d88",
   "metadata": {},
   "outputs": [],
   "source": [
    "import pyspark.sql.functions as f\n",
    "from pyspark.sql.types import StructField, StructType, StringType, DoubleType, IntegerType\n",
    "\n",
    "# create the schema\n",
    "schema = StructType(\n",
    "    [\n",
    "        StructField(\"name\", StringType()),\n",
    "        StructField(\"surname\", StringType()),\n",
    "        StructField(\"amount\", DoubleType()),\n",
    "        StructField(\"delta_t\", DoubleType()),\n",
    "        StructField(\"flag\", IntegerType())\n",
    "    ]\n",
    ")"
   ]
  },
  {
   "cell_type": "markdown",
   "id": "40bc136d-00b9-4f75-a286-c1eb5969b5de",
   "metadata": {},
   "source": [
    "And create a \"parsed\" DataFrame to verify if our schema is properly addressing the data types."
   ]
  },
  {
   "cell_type": "code",
   "execution_count": 12,
   "id": "3e104895-6f22-4908-a7ba-23c19c36f490",
   "metadata": {},
   "outputs": [
    {
     "name": "stdout",
     "output_type": "stream",
     "text": [
      "root\n",
      " |-- from_json(value): struct (nullable = true)\n",
      " |    |-- name: string (nullable = true)\n",
      " |    |-- surname: string (nullable = true)\n",
      " |    |-- amount: double (nullable = true)\n",
      " |    |-- delta_t: double (nullable = true)\n",
      " |    |-- flag: integer (nullable = true)\n",
      "\n"
     ]
    }
   ],
   "source": [
    "# parse the dataframe and show its structure\n",
    "parsedTestDf = testDf.select(f.from_json('value', schema=schema))\n",
    "\n",
    "parsedTestDf.printSchema()"
   ]
  },
  {
   "cell_type": "markdown",
   "id": "069d5bcb-92f5-4a88-b8fe-7b7173c580f0",
   "metadata": {},
   "source": [
    "The structure obtained using `from_json` is actually inherently nested...\n",
    "The `json` messages were correctly parsed, but a nested DataFrame is returned, which should be flattened before being able to use it as a \"plain DataFrame\".\n",
    "\n",
    "\n",
    "As discussed in the DataFrame notebook, this can be easily solved in a variety of ways, for instance by selecting the columns we are interested in using from now on...\n",
    "\n",
    "\n",
    "As an example, the `name` and `surname` columns could be selected."
   ]
  },
  {
   "cell_type": "code",
   "execution_count": 13,
   "id": "318b4364-3c96-449e-a76f-34ecde596938",
   "metadata": {},
   "outputs": [
    {
     "name": "stderr",
     "output_type": "stream",
     "text": [
      "[Stage 12:>                                                         (0 + 1) / 1]\r"
     ]
    },
    {
     "name": "stdout",
     "output_type": "stream",
     "text": [
      "+--------------------------------+\n",
      "|from_json(value)                |\n",
      "+--------------------------------+\n",
      "|{Jill, Millers, 736.56, 7.78, 0}|\n",
      "|{John, Johnson, 986.47, 3.9, 0} |\n",
      "|{John, Jones, 249.9, 0.62, 1}   |\n",
      "|{Andy, Jones, 950.95, 6.02, 0}  |\n",
      "|{Jill, Millers, 724.32, 9.19, 0}|\n",
      "+--------------------------------+\n",
      "only showing top 5 rows\n",
      "\n"
     ]
    },
    {
     "name": "stderr",
     "output_type": "stream",
     "text": [
      "                                                                                \r"
     ]
    }
   ],
   "source": [
    "# show values from the parsedTestDf\n",
    "parsedTestDf.show(n=5, truncate=False)"
   ]
  },
  {
   "cell_type": "code",
   "execution_count": 14,
   "id": "84cdd6ef-8c87-4380-83fa-491f005588e0",
   "metadata": {},
   "outputs": [],
   "source": [
    "# re-create the parsedTestDf by \n",
    "# - aliasing the values produced by from_json as `data`\n",
    "# - selecting the columns `data.name` and `data.surname`\n",
    "parsedTestDf = (\n",
    "    testDf\n",
    "    .select(f.from_json('value', schema=schema).alias('data'))\n",
    "    .select(f.col('data.name'), f.col('data.surname')) \n",
    ")\n",
    "\n",
    "# NB: data.* will select all the columns, as in plain SQL"
   ]
  },
  {
   "cell_type": "code",
   "execution_count": 15,
   "id": "02f7b468-6872-4b20-8516-2dff853973f8",
   "metadata": {},
   "outputs": [
    {
     "name": "stdout",
     "output_type": "stream",
     "text": [
      "root\n",
      " |-- name: string (nullable = true)\n",
      " |-- surname: string (nullable = true)\n",
      "\n"
     ]
    }
   ],
   "source": [
    "# print the new schema\n",
    "parsedTestDf.printSchema()"
   ]
  },
  {
   "cell_type": "code",
   "execution_count": 16,
   "id": "a9ccbf50-2527-4f27-b1a5-55ff47b14f58",
   "metadata": {},
   "outputs": [
    {
     "name": "stdout",
     "output_type": "stream",
     "text": [
      "+----+-------+\n",
      "|name|surname|\n",
      "+----+-------+\n",
      "|Jill|Millers|\n",
      "|John|Johnson|\n",
      "|John|  Jones|\n",
      "|Andy|  Jones|\n",
      "|Jill|Millers|\n",
      "+----+-------+\n",
      "only showing top 5 rows\n",
      "\n"
     ]
    }
   ],
   "source": [
    "# and show the new content\n",
    "parsedTestDf.show(5)"
   ]
  },
  {
   "cell_type": "markdown",
   "id": "77753449-fada-4d7d-bbd0-3e15c32deab2",
   "metadata": {},
   "source": [
    "### From static to streaming queries\n",
    "\n",
    "Now that we have developed a way to extract and interpret the data using a static example, we can reuse the very same code for the streaming query, by simply \"chaining\" the application to the source and directing its results to the sink.\n",
    "\n",
    "**NB**: Remember to restart the producer application before starting the queries."
   ]
  },
  {
   "cell_type": "markdown",
   "id": "16e33476-1b21-489c-be77-7ac35fa79f96",
   "metadata": {},
   "source": [
    "Re-create the \"raw\" DataFrame connecting the Spark Structured Streaming Context to the input TCP socket.\n",
    "\n",
    "**Do not `start` the stream just yet!**"
   ]
  },
  {
   "cell_type": "code",
   "execution_count": 25,
   "id": "4b089163-7791-42bc-8bb5-fec13a46a1a5",
   "metadata": {},
   "outputs": [
    {
     "name": "stderr",
     "output_type": "stream",
     "text": [
      "24/04/08 14:41:52 WARN TextSocketSourceProvider: The socket source should not be used for production applications! It does not support recovery.\n"
     ]
    }
   ],
   "source": [
    "# the hostname and port number\n",
    "hostname = \"spark-master\"\n",
    "portnumber = 5555\n",
    "\n",
    "# recreate the streaming raw dataframe\n",
    "rawMessagesDf = (\n",
    "    spark\n",
    "    .readStream\n",
    "    .format(\"socket\")\n",
    "    .option(\"host\", hostname)\n",
    "    .option(\"port\", portnumber)\n",
    "    .load()\n",
    ")"
   ]
  },
  {
   "cell_type": "markdown",
   "id": "f970f74b-7050-4c4d-9865-a8dac48a39c7",
   "metadata": {},
   "source": [
    "Starting from the streaming DataFrame, issue the appropriate transformations to interpret its `json` format, and prepare a new parsed DataFrame including all (`*`) the columns."
   ]
  },
  {
   "cell_type": "code",
   "execution_count": 26,
   "id": "a2c0710c-bd63-4fae-9813-3be2994d8806",
   "metadata": {},
   "outputs": [],
   "source": [
    "# parse the json lines using the previous schema\n",
    "# select all columns \n",
    "parsedDf = (\n",
    "    rawMessagesDf\n",
    "    .select(\n",
    "        f.from_json(f.col(\"value\"), schema)\n",
    "        .alias(\"data\")\n",
    "    )\n",
    "    .select(f.col(\"data.*\"))\n",
    ")"
   ]
  },
  {
   "cell_type": "markdown",
   "id": "c8d19c40-2ba2-4bde-83a0-6e1e2f20718d",
   "metadata": {},
   "source": [
    "Start the application as done previously, with:\n",
    "- `outputMode=update`\n",
    "- `format=console`\n",
    "\n",
    "Choose the trigger as you prefer. \n",
    "A suggestion is to keep it simple, and use a time-based trigger of 2 seconds."
   ]
  },
  {
   "cell_type": "code",
   "execution_count": 27,
   "id": "0b9450a2-c90d-406e-964c-f80f671faeeb",
   "metadata": {},
   "outputs": [
    {
     "name": "stderr",
     "output_type": "stream",
     "text": [
      "24/04/08 14:41:59 WARN ResolveWriteToStream: Temporary checkpoint location created which is deleted normally when the query didn't fail: /tmp/temporary-30032f0d-6240-46c4-99c6-a43e0d95f9a4. If it's required to delete it under any circumstances, please set spark.sql.streaming.forceDeleteTempCheckpointLocation to true. Important to know deleting temp checkpoint folder is best effort.\n"
     ]
    },
    {
     "name": "stdout",
     "output_type": "stream",
     "text": [
      "-------------------------------------------\n",
      "Batch: 0\n",
      "-------------------------------------------\n",
      "+----+-------+------+-------+----+\n",
      "|name|surname|amount|delta_t|flag|\n",
      "+----+-------+------+-------+----+\n",
      "+----+-------+------+-------+----+\n",
      "\n",
      "-------------------------------------------\n",
      "Batch: 1\n",
      "-------------------------------------------\n",
      "+-----+-------+------+-------+----+\n",
      "|name |surname|amount|delta_t|flag|\n",
      "+-----+-------+------+-------+----+\n",
      "|Joe  |Johnson|357.93|4.67   |0   |\n",
      "|Joe  |Darby  |109.8 |1.92   |0   |\n",
      "|Alice|Johnson|937.82|1.68   |0   |\n",
      "|Jill |Smith  |31.87 |9.7    |0   |\n",
      "+-----+-------+------+-------+----+\n",
      "\n",
      "-------------------------------------------\n",
      "Batch: 2\n",
      "-------------------------------------------\n",
      "+-----+-------+------+-------+----+\n",
      "|name |surname|amount|delta_t|flag|\n",
      "+-----+-------+------+-------+----+\n",
      "|Jill |Smith  |561.21|6.31   |1   |\n",
      "|Andy |Johnson|297.37|2.33   |0   |\n",
      "|Alice|Millers|40.42 |4.51   |0   |\n",
      "|Joe  |Darby  |231.14|5.86   |0   |\n",
      "|Jill |Smith  |996.52|2.74   |0   |\n",
      "|John |Johnson|118.78|8.12   |0   |\n",
      "|Alice|Smith  |501.95|9.07   |0   |\n",
      "|Andy |Millers|963.41|0.1    |1   |\n",
      "|Jill |Smith  |231.23|8.29   |1   |\n",
      "|Alice|Jones  |883.74|9.97   |0   |\n",
      "+-----+-------+------+-------+----+\n",
      "\n",
      "-------------------------------------------\n",
      "Batch: 3\n",
      "-------------------------------------------\n",
      "+----+-------+------+-------+----+\n",
      "|name|surname|amount|delta_t|flag|\n",
      "+----+-------+------+-------+----+\n",
      "|Joe |Darby  |420.05|2.2    |0   |\n",
      "|Jill|Millers|41.17 |3.35   |0   |\n",
      "|Jill|Darby  |490.93|6.83   |0   |\n",
      "|Andy|Jones  |348.0 |1.45   |0   |\n",
      "|John|Jones  |20.42 |0.46   |0   |\n",
      "|John|Millers|990.26|0.24   |0   |\n",
      "|Andy|Millers|308.16|0.8    |0   |\n",
      "|Andy|Jones  |680.96|5.93   |0   |\n",
      "|John|Smith  |935.45|1.58   |0   |\n",
      "|Jill|Millers|470.14|7.66   |0   |\n",
      "+----+-------+------+-------+----+\n",
      "\n",
      "-------------------------------------------\n",
      "Batch: 4\n",
      "-------------------------------------------\n",
      "+-----+-------+------+-------+----+\n",
      "|name |surname|amount|delta_t|flag|\n",
      "+-----+-------+------+-------+----+\n",
      "|Joe  |Johnson|370.93|1.5    |1   |\n",
      "|Alice|Smith  |884.63|7.89   |0   |\n",
      "|Joe  |Darby  |278.22|5.05   |0   |\n",
      "|Jill |Darby  |848.95|8.84   |1   |\n",
      "|John |Smith  |637.93|4.04   |0   |\n",
      "|Jill |Johnson|549.13|1.18   |0   |\n",
      "|Alice|Darby  |943.03|1.26   |0   |\n",
      "|Alice|Millers|523.53|2.83   |0   |\n",
      "|Alice|Millers|149.92|4.64   |0   |\n",
      "|Andy |Smith  |286.41|4.97   |1   |\n",
      "+-----+-------+------+-------+----+\n",
      "\n"
     ]
    }
   ],
   "source": [
    "query = (\n",
    "    parsedDf\n",
    "    .writeStream\n",
    "    .outputMode(\"update\")\n",
    "    .format(\"console\")\n",
    "    .trigger(processingTime='2 seconds')\n",
    "    .option(\"truncate\", False)\n",
    "    .start()\n",
    ")"
   ]
  },
  {
   "cell_type": "code",
   "execution_count": 28,
   "id": "2115592f-7e2e-4cc7-a827-0ebbe2548cc3",
   "metadata": {},
   "outputs": [],
   "source": [
    "query.stop()"
   ]
  },
  {
   "cell_type": "markdown",
   "id": "a7387302-1d48-46bb-82f8-b5c0cfc4124b",
   "metadata": {},
   "source": [
    "### Process each bach to identify possibly fraudolent transactions\n",
    "\n",
    "1. compute the _number of flagged transactions per batch per user_ (create a unique `userID` field as the combination of _FirstLastname_ to idenfity individual users)\n",
    "2. identify all the \"suspicios\" transactions per user: all users with more than one flagged transaction per batch will be assigned a `isFraud` boolean variable\n",
    "3. format the resulting `userID` and `isFraud` information in a DataFrame to mimick a \"live-report\" of the suspicious transactions"
   ]
  },
  {
   "cell_type": "code",
   "execution_count": 29,
   "id": "70fa8b2c-93c4-4ec9-bc78-a23edec01c4c",
   "metadata": {},
   "outputs": [
    {
     "name": "stderr",
     "output_type": "stream",
     "text": [
      "24/04/08 14:43:18 WARN TextSocketSourceProvider: The socket source should not be used for production applications! It does not support recovery.\n"
     ]
    }
   ],
   "source": [
    "# the hostname and port number\n",
    "hostname = \"spark-master\"\n",
    "portnumber = 5555\n",
    "\n",
    "rawMessagesDf = (\n",
    "    spark\n",
    "    .readStream\n",
    "    .format(\"socket\")\n",
    "    .option(\"host\", hostname)\n",
    "    .option(\"port\", portnumber)\n",
    "    .load()\n",
    ")"
   ]
  },
  {
   "cell_type": "code",
   "execution_count": 30,
   "id": "0b8a5915-05e5-49ba-b33d-da3f04aa2a79",
   "metadata": {},
   "outputs": [],
   "source": [
    "# parse json lines, use a schema\n",
    "parsedDf = (\n",
    "    rawMessagesDf\n",
    "    .select(\n",
    "        f.from_json(f.col(\"value\"), schema)\n",
    "        .alias(\"data\")\n",
    "    )\n",
    "    .select(f.col(\"data.*\"))\n",
    ")"
   ]
  },
  {
   "cell_type": "code",
   "execution_count": 31,
   "id": "92ed3f10-d171-42bf-919d-a5d6f67252b1",
   "metadata": {},
   "outputs": [],
   "source": [
    "# find number of transactions for each user when flag = 1 \n",
    "#    declare a new column to create a unique user identifier \n",
    "#    this can be easily done by concatenating first- and last-name fields\n",
    "#    check the concat function from pyspark.sql.functions \n",
    "numTransactions = (\n",
    "    parsedDf\n",
    "    .where(f.col('flag')==1)\n",
    "    .withColumn('id', f.concat(f.col('name'), f.col('surname')))\n",
    "    .groupBy('id')\n",
    "    .count()\n",
    ") "
   ]
  },
  {
   "cell_type": "code",
   "execution_count": 32,
   "id": "344be81f-7865-482b-b4a5-c351714230ff",
   "metadata": {},
   "outputs": [],
   "source": [
    "# find suspicious transactions\n",
    "#    filter only users with more than one transaction per batch\n",
    "#    create a \"fraud\" column with a value of 1 for the selected users (check the lit function)\n",
    "#    from the dataframe, project the unique id, fraud flag and number of transaction columns\n",
    "susTransactions = (\n",
    "    numTransactions\n",
    "    .where(f.col('count')>1)\n",
    "    .withColumn('fraud', f.lit(1))\n",
    "    .select(f.col('id'), f.col('fraud'), f.col('count').alias('nTransactions'))\n",
    ")                                   "
   ]
  },
  {
   "cell_type": "code",
   "execution_count": 33,
   "id": "b82987df-bce0-4544-aa92-fd47cfd84481",
   "metadata": {},
   "outputs": [],
   "source": [
    "# this line is a trick to force Spark to use a small number of partitions (4 in this example)\n",
    "spark.conf.set(\"spark.sql.shuffle.partitions\", 4)"
   ]
  },
  {
   "cell_type": "code",
   "execution_count": 34,
   "id": "b21f6c32-7767-4510-821f-91c793a4905c",
   "metadata": {},
   "outputs": [
    {
     "name": "stderr",
     "output_type": "stream",
     "text": [
      "24/04/08 14:44:00 WARN ResolveWriteToStream: Temporary checkpoint location created which is deleted normally when the query didn't fail: /tmp/temporary-63448311-cf99-4fd6-a2d5-8a1760678b0a. If it's required to delete it under any circumstances, please set spark.sql.streaming.forceDeleteTempCheckpointLocation to true. Important to know deleting temp checkpoint folder is best effort.\n",
      "                                                                                \r"
     ]
    },
    {
     "name": "stdout",
     "output_type": "stream",
     "text": [
      "-------------------------------------------\n",
      "Batch: 0\n",
      "-------------------------------------------\n",
      "+---+-----+-------------+\n",
      "|id |fraud|nTransactions|\n",
      "+---+-----+-------------+\n",
      "+---+-----+-------------+\n",
      "\n"
     ]
    },
    {
     "name": "stderr",
     "output_type": "stream",
     "text": [
      "                                                                                \r"
     ]
    },
    {
     "name": "stdout",
     "output_type": "stream",
     "text": [
      "-------------------------------------------\n",
      "Batch: 1\n",
      "-------------------------------------------\n",
      "+---------+-----+-------------+\n",
      "|id       |fraud|nTransactions|\n",
      "+---------+-----+-------------+\n",
      "|JillDarby|1    |2            |\n",
      "+---------+-----+-------------+\n",
      "\n"
     ]
    },
    {
     "name": "stderr",
     "output_type": "stream",
     "text": [
      "                                                                                \r"
     ]
    },
    {
     "name": "stdout",
     "output_type": "stream",
     "text": [
      "-------------------------------------------\n",
      "Batch: 2\n",
      "-------------------------------------------\n",
      "+----------+-----+-------------+\n",
      "|id        |fraud|nTransactions|\n",
      "+----------+-----+-------------+\n",
      "|JoeJohnson|1    |2            |\n",
      "|JillDarby |1    |3            |\n",
      "+----------+-----+-------------+\n",
      "\n",
      "-------------------------------------------\n",
      "Batch: 3\n",
      "-------------------------------------------\n",
      "+-----------+-----+-------------+\n",
      "|id         |fraud|nTransactions|\n",
      "+-----------+-----+-------------+\n",
      "|AliceJones |1    |3            |\n",
      "|JoeJohnson |1    |3            |\n",
      "|AndyMillers|1    |2            |\n",
      "+-----------+-----+-------------+\n",
      "\n",
      "-------------------------------------------\n",
      "Batch: 4\n",
      "-------------------------------------------\n",
      "+----------+-----+-------------+\n",
      "|id        |fraud|nTransactions|\n",
      "+----------+-----+-------------+\n",
      "|JoeJohnson|1    |4            |\n",
      "|AndyJones |1    |2            |\n",
      "+----------+-----+-------------+\n",
      "\n"
     ]
    },
    {
     "name": "stderr",
     "output_type": "stream",
     "text": [
      "                                                                                \r"
     ]
    },
    {
     "name": "stdout",
     "output_type": "stream",
     "text": [
      "-------------------------------------------\n",
      "Batch: 5\n",
      "-------------------------------------------\n",
      "+-----------+-----+-------------+\n",
      "|id         |fraud|nTransactions|\n",
      "+-----------+-----+-------------+\n",
      "|JoeJohnson |1    |6            |\n",
      "|JillJohnson|1    |2            |\n",
      "|JohnJohnson|1    |2            |\n",
      "+-----------+-----+-------------+\n",
      "\n",
      "-------------------------------------------\n",
      "Batch: 6\n",
      "-------------------------------------------\n",
      "+-----------+-----+-------------+\n",
      "|id         |fraud|nTransactions|\n",
      "+-----------+-----+-------------+\n",
      "|JoeDarby   |1    |2            |\n",
      "|JillJones  |1    |2            |\n",
      "|JohnJohnson|1    |3            |\n",
      "+-----------+-----+-------------+\n",
      "\n",
      "-------------------------------------------\n",
      "Batch: 7\n",
      "-------------------------------------------\n",
      "+----------+-----+-------------+\n",
      "|id        |fraud|nTransactions|\n",
      "+----------+-----+-------------+\n",
      "|JillJones |1    |3            |\n",
      "|JohnSmith |1    |2            |\n",
      "|AliceSmith|1    |3            |\n",
      "+----------+-----+-------------+\n",
      "\n",
      "-------------------------------------------\n",
      "Batch: 8\n",
      "-------------------------------------------\n",
      "+----------+-----+-------------+\n",
      "|id        |fraud|nTransactions|\n",
      "+----------+-----+-------------+\n",
      "|AliceJones|1    |4            |\n",
      "|JillDarby |1    |4            |\n",
      "+----------+-----+-------------+\n",
      "\n",
      "-------------------------------------------\n",
      "Batch: 9\n",
      "-------------------------------------------\n",
      "+-----------+-----+-------------+\n",
      "|id         |fraud|nTransactions|\n",
      "+-----------+-----+-------------+\n",
      "|JillJones  |1    |4            |\n",
      "|JohnSmith  |1    |4            |\n",
      "|JoeDarby   |1    |4            |\n",
      "|JillJohnson|1    |3            |\n",
      "|AliceDarby |1    |2            |\n",
      "+-----------+-----+-------------+\n",
      "\n",
      "-------------------------------------------\n",
      "Batch: 10\n",
      "-------------------------------------------\n",
      "+-----------+-----+-------------+\n",
      "|id         |fraud|nTransactions|\n",
      "+-----------+-----+-------------+\n",
      "|AndyJohnson|1    |2            |\n",
      "|JohnJohnson|1    |4            |\n",
      "|AndySmith  |1    |2            |\n",
      "|JillDarby  |1    |5            |\n",
      "+-----------+-----+-------------+\n",
      "\n"
     ]
    },
    {
     "name": "stderr",
     "output_type": "stream",
     "text": [
      "                                                                                \r"
     ]
    },
    {
     "name": "stdout",
     "output_type": "stream",
     "text": [
      "-------------------------------------------\n",
      "Batch: 11\n",
      "-------------------------------------------\n",
      "+----------+-----+-------------+\n",
      "|id        |fraud|nTransactions|\n",
      "+----------+-----+-------------+\n",
      "|AndyDarby |1    |2            |\n",
      "|JoeJones  |1    |2            |\n",
      "|JoeMillers|1    |2            |\n",
      "+----------+-----+-------------+\n",
      "\n",
      "-------------------------------------------\n",
      "Batch: 12\n",
      "-------------------------------------------\n",
      "+-----------+-----+-------------+\n",
      "|id         |fraud|nTransactions|\n",
      "+-----------+-----+-------------+\n",
      "|AndyJohnson|1    |3            |\n",
      "|JohnSmith  |1    |5            |\n",
      "|JoeSmith   |1    |2            |\n",
      "|JohnJones  |1    |2            |\n",
      "|JoeMillers |1    |3            |\n",
      "+-----------+-----+-------------+\n",
      "\n"
     ]
    }
   ],
   "source": [
    "query = (\n",
    "    susTransactions\n",
    "    .writeStream\n",
    "    .outputMode(\"update\")\n",
    "    .format(\"console\")\n",
    "    .trigger(processingTime='5 seconds')\n",
    "    .option(\"truncate\", False)\n",
    "    .start()\n",
    ")"
   ]
  },
  {
   "cell_type": "code",
   "execution_count": 35,
   "id": "0892665a-fb16-41fd-92a5-e9ef7baa11ce",
   "metadata": {},
   "outputs": [],
   "source": [
    "query.stop()"
   ]
  },
  {
   "cell_type": "markdown",
   "id": "1381287d-287c-45e3-beb1-b51c74ddb4c8",
   "metadata": {},
   "source": [
    "Since this query contains aggregations, output mode can be changed to `complete`.\n",
    "In this case, the full set of results is displayed for every batch. "
   ]
  },
  {
   "cell_type": "code",
   "execution_count": 36,
   "id": "305d190c-6ff9-476b-8f05-21da7c39490e",
   "metadata": {},
   "outputs": [
    {
     "name": "stderr",
     "output_type": "stream",
     "text": [
      "24/04/08 14:45:38 WARN ResolveWriteToStream: Temporary checkpoint location created which is deleted normally when the query didn't fail: /tmp/temporary-1b268e00-5b0d-4be8-bee3-b951a94f9d3c. If it's required to delete it under any circumstances, please set spark.sql.streaming.forceDeleteTempCheckpointLocation to true. Important to know deleting temp checkpoint folder is best effort.\n"
     ]
    },
    {
     "name": "stdout",
     "output_type": "stream",
     "text": [
      "-------------------------------------------\n",
      "Batch: 0\n",
      "-------------------------------------------\n",
      "+---+-----+-------------+\n",
      "|id |fraud|nTransactions|\n",
      "+---+-----+-------------+\n",
      "+---+-----+-------------+\n",
      "\n",
      "-------------------------------------------\n",
      "Batch: 1\n",
      "-------------------------------------------\n",
      "+---+-----+-------------+\n",
      "|id |fraud|nTransactions|\n",
      "+---+-----+-------------+\n",
      "+---+-----+-------------+\n",
      "\n",
      "-------------------------------------------\n",
      "Batch: 2\n",
      "-------------------------------------------\n",
      "+---+-----+-------------+\n",
      "|id |fraud|nTransactions|\n",
      "+---+-----+-------------+\n",
      "+---+-----+-------------+\n",
      "\n",
      "-------------------------------------------\n",
      "Batch: 3\n",
      "-------------------------------------------\n",
      "+----------+-----+-------------+\n",
      "|id        |fraud|nTransactions|\n",
      "+----------+-----+-------------+\n",
      "|AndyDarby |1    |2            |\n",
      "|JoeMillers|1    |2            |\n",
      "+----------+-----+-------------+\n",
      "\n",
      "-------------------------------------------\n",
      "Batch: 4\n",
      "-------------------------------------------\n",
      "+-----------+-----+-------------+\n",
      "|id         |fraud|nTransactions|\n",
      "+-----------+-----+-------------+\n",
      "|AndyDarby  |1    |2            |\n",
      "|JoeMillers |1    |2            |\n",
      "|AndyMillers|1    |3            |\n",
      "+-----------+-----+-------------+\n",
      "\n",
      "-------------------------------------------\n",
      "Batch: 5\n",
      "-------------------------------------------\n",
      "+-----------+-----+-------------+\n",
      "|id         |fraud|nTransactions|\n",
      "+-----------+-----+-------------+\n",
      "|AliceSmith |1    |2            |\n",
      "|AndyDarby  |1    |2            |\n",
      "|AndyMillers|1    |3            |\n",
      "|JoeMillers |1    |2            |\n",
      "+-----------+-----+-------------+\n",
      "\n",
      "-------------------------------------------\n",
      "Batch: 6\n",
      "-------------------------------------------\n",
      "+-----------+-----+-------------+\n",
      "|id         |fraud|nTransactions|\n",
      "+-----------+-----+-------------+\n",
      "|AndyJohnson|1    |2            |\n",
      "|JohnMillers|1    |2            |\n",
      "|AliceSmith |1    |3            |\n",
      "|AndyDarby  |1    |2            |\n",
      "|AndyMillers|1    |3            |\n",
      "|JoeMillers |1    |2            |\n",
      "+-----------+-----+-------------+\n",
      "\n",
      "-------------------------------------------\n",
      "Batch: 7\n",
      "-------------------------------------------\n",
      "+-----------+-----+-------------+\n",
      "|id         |fraud|nTransactions|\n",
      "+-----------+-----+-------------+\n",
      "|JohnMillers|1    |3            |\n",
      "|AliceJones |1    |2            |\n",
      "|AndyJohnson|1    |2            |\n",
      "|AliceSmith |1    |3            |\n",
      "|AndyDarby  |1    |4            |\n",
      "|JillMillers|1    |2            |\n",
      "|JohnJohnson|1    |2            |\n",
      "|JillDarby  |1    |2            |\n",
      "|AndyMillers|1    |3            |\n",
      "|JoeMillers |1    |3            |\n",
      "+-----------+-----+-------------+\n",
      "\n",
      "-------------------------------------------\n",
      "Batch: 8\n",
      "-------------------------------------------\n",
      "+-----------+-----+-------------+\n",
      "|id         |fraud|nTransactions|\n",
      "+-----------+-----+-------------+\n",
      "|JohnMillers|1    |3            |\n",
      "|AliceJones |1    |2            |\n",
      "|AndyJohnson|1    |2            |\n",
      "|JillJohnson|1    |2            |\n",
      "|AliceSmith |1    |4            |\n",
      "|AndyDarby  |1    |4            |\n",
      "|JillMillers|1    |3            |\n",
      "|JohnJohnson|1    |3            |\n",
      "|JillDarby  |1    |2            |\n",
      "|AndyMillers|1    |4            |\n",
      "|JoeMillers |1    |3            |\n",
      "+-----------+-----+-------------+\n",
      "\n",
      "-------------------------------------------\n",
      "Batch: 9\n",
      "-------------------------------------------\n",
      "+-----------+-----+-------------+\n",
      "|id         |fraud|nTransactions|\n",
      "+-----------+-----+-------------+\n",
      "|JoeDarby   |1    |2            |\n",
      "|JohnMillers|1    |3            |\n",
      "|AliceJones |1    |2            |\n",
      "|AndyJohnson|1    |2            |\n",
      "|JillJohnson|1    |3            |\n",
      "|AliceSmith |1    |4            |\n",
      "|AndyDarby  |1    |4            |\n",
      "|JillMillers|1    |3            |\n",
      "|JohnJohnson|1    |4            |\n",
      "|JillDarby  |1    |2            |\n",
      "|AndyMillers|1    |4            |\n",
      "|JoeMillers |1    |3            |\n",
      "|JoeJones   |1    |2            |\n",
      "+-----------+-----+-------------+\n",
      "\n",
      "-------------------------------------------\n",
      "Batch: 10\n",
      "-------------------------------------------\n",
      "+-----------+-----+-------------+\n",
      "|id         |fraud|nTransactions|\n",
      "+-----------+-----+-------------+\n",
      "|JoeDarby   |1    |2            |\n",
      "|JillSmith  |1    |2            |\n",
      "|JohnMillers|1    |3            |\n",
      "|AliceJones |1    |2            |\n",
      "|AndyJohnson|1    |3            |\n",
      "|JohnSmith  |1    |2            |\n",
      "|JillJohnson|1    |3            |\n",
      "|AliceSmith |1    |4            |\n",
      "|AndyDarby  |1    |4            |\n",
      "|JillMillers|1    |3            |\n",
      "|JohnJohnson|1    |4            |\n",
      "|JillDarby  |1    |2            |\n",
      "|AndyMillers|1    |4            |\n",
      "|JoeMillers |1    |3            |\n",
      "|JoeJones   |1    |2            |\n",
      "+-----------+-----+-------------+\n",
      "\n",
      "-------------------------------------------\n",
      "Batch: 11\n",
      "-------------------------------------------\n",
      "+-----------+-----+-------------+\n",
      "|id         |fraud|nTransactions|\n",
      "+-----------+-----+-------------+\n",
      "|JoeDarby   |1    |2            |\n",
      "|JillSmith  |1    |2            |\n",
      "|JohnMillers|1    |3            |\n",
      "|AliceJones |1    |2            |\n",
      "|AndyJohnson|1    |3            |\n",
      "|JohnSmith  |1    |2            |\n",
      "|JillJohnson|1    |3            |\n",
      "|AndyJones  |1    |2            |\n",
      "|AliceSmith |1    |4            |\n",
      "|AndyDarby  |1    |5            |\n",
      "|JillMillers|1    |3            |\n",
      "|JohnJohnson|1    |4            |\n",
      "|JillDarby  |1    |2            |\n",
      "|AndyMillers|1    |4            |\n",
      "|JoeMillers |1    |3            |\n",
      "|JoeJones   |1    |2            |\n",
      "+-----------+-----+-------------+\n",
      "\n",
      "-------------------------------------------\n",
      "Batch: 12\n",
      "-------------------------------------------\n",
      "+-----------+-----+-------------+\n",
      "|id         |fraud|nTransactions|\n",
      "+-----------+-----+-------------+\n",
      "|JoeDarby   |1    |3            |\n",
      "|JillSmith  |1    |2            |\n",
      "|JohnMillers|1    |3            |\n",
      "|AliceJones |1    |2            |\n",
      "|AndyJohnson|1    |3            |\n",
      "|JohnSmith  |1    |2            |\n",
      "|JillJohnson|1    |3            |\n",
      "|AndyJones  |1    |3            |\n",
      "|AliceSmith |1    |4            |\n",
      "|AndyDarby  |1    |5            |\n",
      "|JillMillers|1    |3            |\n",
      "|JohnJohnson|1    |4            |\n",
      "|JillDarby  |1    |2            |\n",
      "|AndyMillers|1    |4            |\n",
      "|JoeMillers |1    |3            |\n",
      "|JoeJones   |1    |3            |\n",
      "+-----------+-----+-------------+\n",
      "\n"
     ]
    }
   ],
   "source": [
    "query = (\n",
    "    susTransactions\n",
    "    .writeStream\n",
    "    .outputMode(\"complete\")\n",
    "    .format(\"console\")\n",
    "    .trigger(processingTime='5 seconds')\n",
    "    .option(\"truncate\", False)\n",
    "    .start()\n",
    ")"
   ]
  },
  {
   "cell_type": "code",
   "execution_count": 37,
   "id": "f8bbeda4-f370-494e-a851-e0b5d2a84dc1",
   "metadata": {},
   "outputs": [],
   "source": [
    "query.stop()"
   ]
  },
  {
   "cell_type": "markdown",
   "id": "d515d2d5-3403-4e8f-bfdf-7684c983608c",
   "metadata": {},
   "source": [
    "## Stop spark worker"
   ]
  },
  {
   "cell_type": "code",
   "execution_count": 38,
   "id": "4a3bd53a-ae65-4288-89fa-81062e7f3e6d",
   "metadata": {},
   "outputs": [],
   "source": [
    "spark.stop()"
   ]
  },
  {
   "cell_type": "code",
   "execution_count": null,
   "id": "ef34eb3b-f324-4ae6-a9e7-1954ef509e9e",
   "metadata": {},
   "outputs": [],
   "source": []
  }
 ],
 "metadata": {
  "kernelspec": {
   "display_name": "Python 3 (ipykernel)",
   "language": "python",
   "name": "python3"
  },
  "language_info": {
   "codemirror_mode": {
    "name": "ipython",
    "version": 3
   },
   "file_extension": ".py",
   "mimetype": "text/x-python",
   "name": "python",
   "nbconvert_exporter": "python",
   "pygments_lexer": "ipython3",
   "version": "3.11.8"
  }
 },
 "nbformat": 4,
 "nbformat_minor": 5
}
